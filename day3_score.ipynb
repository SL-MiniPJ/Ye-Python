{
 "cells": [
  {
   "cell_type": "code",
   "execution_count": 1,
   "metadata": {},
   "outputs": [
    {
     "name": "stdout",
     "output_type": "stream",
     "text": [
      "1.등록 | 2.검색 | 3.삭제 | 4.수정 | 5.전체 조회5\n",
      "전체 조회\n",
      "test1 : {'국어': '10', '영어': '20', '수학': '30', '과학': '40'}\n",
      "test4 : {'국어': '30', '영어': '40', '수학': '50', '과학': '60'}\n",
      "test2 : {'국어': '12', '영어': '12', '수학': '12', '과학': '12'}\n"
     ]
    }
   ],
   "source": [
    "# 성적처리 program  # 등록, 검색, 삭제, 수정, 조회, 파일 입출력\n",
    "import pickle\n",
    "\n",
    "subject=['국어','영어','수학','과학']\n",
    "program = dict()\n",
    "\n",
    "menu=int(input('1.등록 | 2.검색 | 3.삭제 | 4.수정 | 5.전체 조회'))\n",
    "\n",
    "if menu==1: # 등록\n",
    "    print('등록하기')\n",
    "    with open('score/program.p','rb') as file:\n",
    "        program=pickle.load(file)\n",
    "    \n",
    "    name=input('이름 : ')\n",
    "    scores = {subject[0]:input('국어 : '), subject[1]:input('영어 : '), \n",
    "              subject[2]:input('수학 : '), subject[3]:input('과학 : ')}\n",
    "    program.setdefault(name,scores)\n",
    "    \n",
    "    with open('score/program.p','wb') as file:\n",
    "        pickle.dump(program,file)\n",
    "\n",
    "if menu==2: # 검색\n",
    "    print('검색하기')\n",
    "    name=input('이름 : ')\n",
    "    with open('score/program.p','rb') as file:\n",
    "        program=pickle.load(file)\n",
    "        if program.get(name) !=None :\n",
    "            print(name,'성적')\n",
    "            print(program.get(name))\n",
    "        else:\n",
    "            print('존재하지 않는 학생입니다.')\n",
    "\n",
    "if menu==3: # 삭제\n",
    "    print('삭제하기')\n",
    "    name=input('이름 : ')\n",
    "    with open('score/program.p','rb') as file:\n",
    "        program=pickle.load(file)\n",
    "        if program.get(name) !=None :\n",
    "            program.pop(name)\n",
    "            print(name,'삭제 되었습니다.')\n",
    "        else:\n",
    "            print('존재하지 않는 학생입니다.')\n",
    "\n",
    "    with open('score/program.p','wb') as file:\n",
    "        pickle.dump(program,file)\n",
    "\n",
    "if menu==4: # 수정\n",
    "    print('수정하기')\n",
    "    name=input('이름 : ')\n",
    "    with open('score/program.p','rb') as file:\n",
    "        program=pickle.load(file)\n",
    "        if program.get(name) !=None :\n",
    "            program.pop(name)    \n",
    "            nameS=name\n",
    "            scores = {subject[0]:input('국어 : '), subject[1]:input('영어 : '), \n",
    "                    subject[2]:input('수학 : '), subject[3]:input('과학 : ')}\n",
    "            program.setdefault(nameS,scores)\n",
    "    \n",
    "            with open('score/program.p','wb') as file:\n",
    "                pickle.dump(program,file)\n",
    "        else:\n",
    "            print('존재하지 않는 학생입니다.')        \n",
    "        \n",
    "if menu==5:\n",
    "    print('전체 조회')\n",
    "    with open('score/program.p','rb') as file:\n",
    "        program=pickle.load(file)\n",
    "        \n",
    "        for key, value in program.items():\n",
    "            print(key,':', value)\n"
   ]
  }
 ],
 "metadata": {
  "kernelspec": {
   "display_name": "Python 3",
   "language": "python",
   "name": "python3"
  },
  "language_info": {
   "codemirror_mode": {
    "name": "ipython",
    "version": 3
   },
   "file_extension": ".py",
   "mimetype": "text/x-python",
   "name": "python",
   "nbconvert_exporter": "python",
   "pygments_lexer": "ipython3",
   "version": "3.8.3"
  }
 },
 "nbformat": 4,
 "nbformat_minor": 4
}
