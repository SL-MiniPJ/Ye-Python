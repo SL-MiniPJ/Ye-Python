{
 "cells": [
  {
   "cell_type": "code",
   "execution_count": 7,
   "metadata": {},
   "outputs": [
    {
     "name": "stdout",
     "output_type": "stream",
     "text": [
      "[2016, 2017, 2018]\n",
      "[9930616, 9857424, 9838892]\n"
     ]
    }
   ],
   "source": [
    "#11-6\n",
    "year=[2011,2012,20,13,2014,2015,2016,2017,2018]\n",
    "pupulation=[10249679,10175318,10143645,10103233,1022181,9930616,9857424,9838892]\n",
    "print(year[-3:])\n",
    "print(pupulation[-3:])"
   ]
  },
  {
   "cell_type": "code",
   "execution_count": 11,
   "metadata": {},
   "outputs": [
    {
     "name": "stdout",
     "output_type": "stream",
     "text": [
      "(75, -10, 32, -15, 76, 2)\n"
     ]
    }
   ],
   "source": [
    "#11-7\n",
    "n=-32,75,97,-10,9,32,4,-15,0,76,14,2\n",
    "print(n[1::2])"
   ]
  },
  {
   "cell_type": "code",
   "execution_count": 31,
   "metadata": {
    "scrolled": true
   },
   "outputs": [
    {
     "name": "stdout",
     "output_type": "stream",
     "text": [
      "1 d 5 3 d 7 d 9\n",
      "('1', 'd', '5')\n"
     ]
    }
   ],
   "source": [
    "#11-8\n",
    "x=list(input().split())\n",
    "del x[-5:]\n",
    "print(tuple(x))"
   ]
  },
  {
   "cell_type": "code",
   "execution_count": 38,
   "metadata": {},
   "outputs": [
    {
     "name": "stdout",
     "output_type": "stream",
     "text": [
      "print\n",
      "print\n",
      "['r', 'n', 'p', 'i', 't']\n"
     ]
    }
   ],
   "source": [
    "#11-9\n",
    "x=list(input())\n",
    "y=list(input())\n",
    "print(x[1::2]+y[::2])#다듬기"
   ]
  },
  {
   "cell_type": "code",
   "execution_count": 44,
   "metadata": {
    "scrolled": true
   },
   "outputs": [
    {
     "name": "stdout",
     "output_type": "stream",
     "text": [
      "800\n",
      "{'health': 800, 'mama': 334, 'melee': 550, 'armor': 18.72}\n",
      "{100: 'hundred', False: 0, 3.5: [3.5, 3.5]}\n",
      "0\n",
      "True\n"
     ]
    }
   ],
   "source": [
    "#딕셔너리 {key:value}\n",
    "lux={'health':490,'health':800,'mama':334, 'melee':550, 'armor':18.72}\n",
    "print(lux['health'])\n",
    "print(lux)\n",
    "print('health' in lux)\n",
    "\n",
    "#키는 명확한 타입만 사용 가능. value는 list등도 가능!\n",
    "x={100:'hundred',False:0,3.5:[3.5,3.5]}\n",
    "print(x)\n",
    "print(x[False])\n"
   ]
  },
  {
   "cell_type": "code",
   "execution_count": 48,
   "metadata": {},
   "outputs": [
    {
     "name": "stdout",
     "output_type": "stream",
     "text": [
      "체력 : 575.6, 이동속도: 340\n"
     ]
    }
   ],
   "source": [
    "#12-4\n",
    "camille={\n",
    "    'health':575.6,\n",
    "    'health_regen':1.7,\n",
    "    'mana':338.8,\n",
    "    'mana_regen':1.63,\n",
    "    'melee':125,\n",
    "    'attack_damage':60,\n",
    "    'attack_speed':0.625,\n",
    "    'armor':26,\n",
    "    'magic_resistance':32.1,\n",
    "    'movement_speed':340\n",
    "}\n",
    "\n",
    "print('체력 : '+str(camille['health'])+', 이동속도: '+str(camille['movement_speed']))"
   ]
  },
  {
   "cell_type": "code",
   "execution_count": 69,
   "metadata": {},
   "outputs": [
    {
     "name": "stdout",
     "output_type": "stream",
     "text": [
      "하나 둘 셋\n",
      "1 2 3\n",
      "{'하나': '1', '둘': '2', '셋': '3'}\n"
     ]
    }
   ],
   "source": [
    "#12-5\n",
    "x=list(input().split())\n",
    "y=list(input().split())\n",
    "\n",
    "py=dict(zip(x[:],y[:]))\n",
    "\n",
    "print(py)"
   ]
  },
  {
   "cell_type": "code",
   "execution_count": 81,
   "metadata": {},
   "outputs": [
    {
     "data": {
      "text/plain": [
       "{1, 2, 3, 4}"
      ]
     },
     "execution_count": 81,
     "metadata": {},
     "output_type": "execute_result"
    }
   ],
   "source": [
    "#set\n",
    "a={1,2,3,4}\n",
    "b={3,4,5,6}\n",
    "#a|b\n",
    "#a or b\n",
    "#set.union(a,b)"
   ]
  },
  {
   "cell_type": "code",
   "execution_count": 91,
   "metadata": {},
   "outputs": [
    {
     "name": "stdout",
     "output_type": "stream",
     "text": [
      "20\n"
     ]
    }
   ],
   "source": [
    "#조건문 if\n",
    "#아무 내용도 쓰지 않을 거면 pass 적어야함\n",
    "x=10\n",
    "if x != 10:\n",
    "    print('10입니다')\n",
    "    if x==10:\n",
    "        print(x)\n",
    "        \n",
    "if x != 10:\n",
    "    print('10입니다')\n",
    "else:\n",
    "    print(x*2)\n"
   ]
  },
  {
   "cell_type": "code",
   "execution_count": 95,
   "metadata": {},
   "outputs": [
    {
     "name": "stdout",
     "output_type": "stream",
     "text": [
      "ok\n"
     ]
    }
   ],
   "source": [
    "#13-6\n",
    "x=5\n",
    "if x !=10:\n",
    "    print('ok')"
   ]
  },
  {
   "cell_type": "code",
   "execution_count": 102,
   "metadata": {},
   "outputs": [
    {
     "name": "stdout",
     "output_type": "stream",
     "text": [
      "20000\n",
      "d\n"
     ]
    }
   ],
   "source": [
    "#13-7\n",
    "sel=int(input())\n",
    "cupon=input()\n",
    "if cupon=='Cash3000':\n",
    "    print(sel-3000)\n",
    "elif cupon=='Cash5000':\n",
    "    print(sel-5000)\n"
   ]
  },
  {
   "cell_type": "code",
   "execution_count": 105,
   "metadata": {},
   "outputs": [
    {
     "name": "stdout",
     "output_type": "stream",
     "text": [
      "불합격\n"
     ]
    }
   ],
   "source": [
    "#14-6\n",
    "written_test=75\n",
    "coding_test=True\n",
    "if written_test>=80 and coding_test==True:\n",
    "    print('합격')\n",
    "else:\n",
    "    print('불합격')"
   ]
  },
  {
   "cell_type": "code",
   "execution_count": 126,
   "metadata": {},
   "outputs": [
    {
     "name": "stdout",
     "output_type": "stream",
     "text": [
      "99 85 101 90\n",
      "잘못된 점수\n"
     ]
    }
   ],
   "source": [
    "#14-7\n",
    "kor,eng,mat,cie=input().split()\n",
    "kor,eng,mat,cie=int(kor),int(eng),int(mat),int(cie)\n",
    "\n",
    "if kor<0 or eng<0 or mat<0 or cie<0 or kor>100 or eng>100 or mat>100 or cie>100 :\n",
    "    print('잘못된 점수')  \n",
    "elif ((kor+eng+mat+cie)/4)>=80:\n",
    "    print('합격')\n",
    "else:\n",
    "    print('불합격')"
   ]
  },
  {
   "cell_type": "code",
   "execution_count": 128,
   "metadata": {},
   "outputs": [
    {
     "name": "stdout",
     "output_type": "stream",
     "text": [
      "16\n",
      "11~20\n"
     ]
    }
   ],
   "source": [
    "#15-3\n",
    "x=int(input())\n",
    "if 11<=x<=20:\n",
    "    print('11~20')\n",
    "elif 21<=x<=30:\n",
    "    print('21~30')\n",
    "else:\n",
    "    print('해당되지 않음')"
   ]
  },
  {
   "cell_type": "code",
   "execution_count": 130,
   "metadata": {},
   "outputs": [
    {
     "name": "stdout",
     "output_type": "stream",
     "text": [
      "12\n",
      "8350\n"
     ]
    }
   ],
   "source": [
    "#15-4\n",
    "age=int(input())\n",
    "card=9000\n",
    "if age<7:\n",
    "    print('요금을 지불하지 않아도 됩니다.')\n",
    "elif 7<=age<=12:\n",
    "    print(card-650)\n",
    "elif 13<=age<=18:\n",
    "    print(card-1050)\n",
    "else:\n",
    "    print(card-1250)"
   ]
  },
  {
   "cell_type": "code",
   "execution_count": 143,
   "metadata": {},
   "outputs": [
    {
     "name": "stdout",
     "output_type": "stream",
     "text": [
      "3 / 0\n",
      "0으로는 나눌 수 없습니다.\n"
     ]
    }
   ],
   "source": [
    "#사칙연산\n",
    "a,q,b=input().split()\n",
    "a,b=int(a),int(b)\n",
    "\n",
    "if q=='+':\n",
    "    print(a+b)\n",
    "elif q=='-':\n",
    "    print(a-b)\n",
    "elif q=='*':\n",
    "    print(a*b)\n",
    "elif q=='/':\n",
    "    if(b==0):\n",
    "        print('0으로는 나눌 수 없습니다.')\n",
    "    else:\n",
    "        print(a/b)    \n",
    "else:\n",
    "    print('사칙연산만 가능합니다.')"
   ]
  },
  {
   "cell_type": "code",
   "execution_count": 151,
   "metadata": {},
   "outputs": [
    {
     "name": "stdout",
     "output_type": "stream",
     "text": [
      "0\n",
      "1\n",
      "2\n",
      "3\n",
      "4\n",
      "5\n",
      "6\n",
      "7\n",
      "8\n",
      "9\n",
      "-----\n",
      "5\n",
      "7\n",
      "9\n",
      "-----\n",
      "10\n",
      "8\n",
      "6\n",
      "4\n",
      "2\n"
     ]
    }
   ],
   "source": [
    "#반복문 for\n",
    "for i in range(10):\n",
    "    print(i)\n",
    "print('-----')\n",
    "for i in range(5,10,2):\n",
    "    print(i)\n",
    "print('-----')\n",
    "for i in range(10,0,-2):\n",
    "    print(i)"
   ]
  },
  {
   "cell_type": "code",
   "execution_count": 152,
   "metadata": {},
   "outputs": [
    {
     "name": "stdout",
     "output_type": "stream",
     "text": [
      "java\n",
      "python\n",
      "jsp\n"
     ]
    }
   ],
   "source": [
    "a =['java','python','jsp']\n",
    "for i in a:\n",
    "    print(i)"
   ]
  },
  {
   "cell_type": "code",
   "execution_count": 171,
   "metadata": {},
   "outputs": [
    {
     "name": "stdout",
     "output_type": "stream",
     "text": [
      "0\n",
      "1\n",
      "2\n",
      "3\n",
      "4\n",
      "5\n",
      "6\n",
      "7\n",
      "8\n",
      "9\n"
     ]
    }
   ],
   "source": [
    "#반복문 while\n",
    "i=0  #초기문\n",
    "while i<10:  #조건문\n",
    "    print(i)\n",
    "    i += 1  #증감문"
   ]
  },
  {
   "cell_type": "code",
   "execution_count": 217,
   "metadata": {},
   "outputs": [
    {
     "name": "stdout",
     "output_type": "stream",
     "text": [
      "3 40 10 36 40 33 \n",
      "---------\n",
      "27 31 36 32 18 45 "
     ]
    }
   ],
   "source": [
    "#랜덤 난수\n",
    "import random\n",
    "\n",
    "#random.random()\n",
    "#print(random.randint(1,45))\n",
    "\n",
    "# 로또 중복 검사 X\n",
    "i=0\n",
    "while i<6:\n",
    "    r=random.randint(1,45)\n",
    "    print(r, end=' ')\n",
    "    i += 1\n",
    "    \n",
    "print('')\n",
    "print('---------')\n",
    "\n",
    "# 로또 중복 검사 O\n",
    "i=0\n",
    "ran=[0,0,0,0,0,0]\n",
    "while i<6:\n",
    "    r=random.randint(1,45)\n",
    "    if r not in ran :\n",
    "        ran[i]=r\n",
    "        print(ran[i], end=' ')\n",
    "        i += 1"
   ]
  },
  {
   "cell_type": "code",
   "execution_count": 16,
   "metadata": {},
   "outputs": [],
   "source": [
    "#터틀 그래픽스\n",
    "import turtle as t\n",
    "t.shape('turtle')\n",
    "\n",
    "#t.right(90)  # 90도 회전\n",
    "t.forward(100)  # 100px 이동\n"
   ]
  },
  {
   "cell_type": "code",
   "execution_count": 3,
   "metadata": {},
   "outputs": [
    {
     "name": "stdout",
     "output_type": "stream",
     "text": [
      "3\n"
     ]
    }
   ],
   "source": [
    "import turtle as t\n",
    "t.shape('turtle')\n",
    "\n",
    "#t.lt(90)  # 90도 왼쪽으로 회전\n",
    "#t.rt(90)  # 90도 오른쪽으로회전\n",
    "#t.fd(100)  # 100px 앞으로 이동\n",
    "#t.bk(100)  # 100px 뒤로 이동\n",
    "\n",
    "q=int(input())\n",
    "for i in range(q):\n",
    "    t.fd(100)\n",
    "    t.rt(360/q)\n"
   ]
  },
  {
   "cell_type": "code",
   "execution_count": 4,
   "metadata": {},
   "outputs": [
    {
     "name": "stdout",
     "output_type": "stream",
     "text": [
      "6\n"
     ]
    },
    {
     "ename": "Terminator",
     "evalue": "",
     "output_type": "error",
     "traceback": [
      "\u001b[1;31m---------------------------------------------------------------------------\u001b[0m",
      "\u001b[1;31mTclError\u001b[0m                                  Traceback (most recent call last)",
      "\u001b[1;32m~\\anaconda3\\lib\\turtle.py\u001b[0m in \u001b[0;36mcircle\u001b[1;34m(radius, extent, steps)\u001b[0m\n",
      "\u001b[1;32m~\\anaconda3\\lib\\turtle.py\u001b[0m in \u001b[0;36mcircle\u001b[1;34m(self, radius, extent, steps)\u001b[0m\n\u001b[0;32m   1990\u001b[0m             \u001b[0mself\u001b[0m\u001b[1;33m.\u001b[0m\u001b[0mspeed\u001b[0m\u001b[1;33m(\u001b[0m\u001b[0mspeed\u001b[0m\u001b[1;33m)\u001b[0m\u001b[1;33m\u001b[0m\u001b[1;33m\u001b[0m\u001b[0m\n\u001b[1;32m-> 1991\u001b[1;33m             \u001b[0mself\u001b[0m\u001b[1;33m.\u001b[0m\u001b[0m_go\u001b[0m\u001b[1;33m(\u001b[0m\u001b[0ml\u001b[0m\u001b[1;33m)\u001b[0m\u001b[1;33m\u001b[0m\u001b[1;33m\u001b[0m\u001b[0m\n\u001b[0m\u001b[0;32m   1992\u001b[0m             \u001b[0mself\u001b[0m\u001b[1;33m.\u001b[0m\u001b[0mspeed\u001b[0m\u001b[1;33m(\u001b[0m\u001b[1;36m0\u001b[0m\u001b[1;33m)\u001b[0m\u001b[1;33m\u001b[0m\u001b[1;33m\u001b[0m\u001b[0m\n",
      "\u001b[1;32m~\\anaconda3\\lib\\turtle.py\u001b[0m in \u001b[0;36m_go\u001b[1;34m(self, distance)\u001b[0m\n\u001b[0;32m   1604\u001b[0m         \u001b[0mende\u001b[0m \u001b[1;33m=\u001b[0m \u001b[0mself\u001b[0m\u001b[1;33m.\u001b[0m\u001b[0m_position\u001b[0m \u001b[1;33m+\u001b[0m \u001b[0mself\u001b[0m\u001b[1;33m.\u001b[0m\u001b[0m_orient\u001b[0m \u001b[1;33m*\u001b[0m \u001b[0mdistance\u001b[0m\u001b[1;33m\u001b[0m\u001b[1;33m\u001b[0m\u001b[0m\n\u001b[1;32m-> 1605\u001b[1;33m         \u001b[0mself\u001b[0m\u001b[1;33m.\u001b[0m\u001b[0m_goto\u001b[0m\u001b[1;33m(\u001b[0m\u001b[0mende\u001b[0m\u001b[1;33m)\u001b[0m\u001b[1;33m\u001b[0m\u001b[1;33m\u001b[0m\u001b[0m\n\u001b[0m\u001b[0;32m   1606\u001b[0m \u001b[1;33m\u001b[0m\u001b[0m\n",
      "\u001b[1;32m~\\anaconda3\\lib\\turtle.py\u001b[0m in \u001b[0;36m_goto\u001b[1;34m(self, end)\u001b[0m\n\u001b[0;32m   3180\u001b[0m             \u001b[1;32mif\u001b[0m \u001b[0mself\u001b[0m\u001b[1;33m.\u001b[0m\u001b[0m_drawing\u001b[0m\u001b[1;33m:\u001b[0m\u001b[1;33m\u001b[0m\u001b[1;33m\u001b[0m\u001b[0m\n\u001b[1;32m-> 3181\u001b[1;33m                 screen._drawline(self.drawingLineItem, ((0, 0), (0, 0)),\n\u001b[0m\u001b[0;32m   3182\u001b[0m                                                fill=\"\", width=self._pensize)\n",
      "\u001b[1;32m~\\anaconda3\\lib\\turtle.py\u001b[0m in \u001b[0;36m_drawline\u001b[1;34m(self, lineitem, coordlist, fill, width, top)\u001b[0m\n\u001b[0;32m    544\u001b[0m                 \u001b[0mcl\u001b[0m\u001b[1;33m.\u001b[0m\u001b[0mappend\u001b[0m\u001b[1;33m(\u001b[0m\u001b[1;33m-\u001b[0m\u001b[0my\u001b[0m \u001b[1;33m*\u001b[0m \u001b[0mself\u001b[0m\u001b[1;33m.\u001b[0m\u001b[0myscale\u001b[0m\u001b[1;33m)\u001b[0m\u001b[1;33m\u001b[0m\u001b[1;33m\u001b[0m\u001b[0m\n\u001b[1;32m--> 545\u001b[1;33m             \u001b[0mself\u001b[0m\u001b[1;33m.\u001b[0m\u001b[0mcv\u001b[0m\u001b[1;33m.\u001b[0m\u001b[0mcoords\u001b[0m\u001b[1;33m(\u001b[0m\u001b[0mlineitem\u001b[0m\u001b[1;33m,\u001b[0m \u001b[1;33m*\u001b[0m\u001b[0mcl\u001b[0m\u001b[1;33m)\u001b[0m\u001b[1;33m\u001b[0m\u001b[1;33m\u001b[0m\u001b[0m\n\u001b[0m\u001b[0;32m    546\u001b[0m         \u001b[1;32mif\u001b[0m \u001b[0mfill\u001b[0m \u001b[1;32mis\u001b[0m \u001b[1;32mnot\u001b[0m \u001b[1;32mNone\u001b[0m\u001b[1;33m:\u001b[0m\u001b[1;33m\u001b[0m\u001b[1;33m\u001b[0m\u001b[0m\n",
      "\u001b[1;32m<string>\u001b[0m in \u001b[0;36mcoords\u001b[1;34m(self, *args, **kw)\u001b[0m\n",
      "\u001b[1;32m~\\anaconda3\\lib\\tkinter\\__init__.py\u001b[0m in \u001b[0;36mcoords\u001b[1;34m(self, *args)\u001b[0m\n\u001b[0;32m   2760\u001b[0m                            self.tk.splitlist(\n\u001b[1;32m-> 2761\u001b[1;33m                    self.tk.call((self._w, 'coords') + args))]\n\u001b[0m\u001b[0;32m   2762\u001b[0m \u001b[1;33m\u001b[0m\u001b[0m\n",
      "\u001b[1;31mTclError\u001b[0m: invalid command name \".!canvas\"",
      "\nDuring handling of the above exception, another exception occurred:\n",
      "\u001b[1;31mTerminator\u001b[0m                                Traceback (most recent call last)",
      "\u001b[1;32m<ipython-input-4-73906eeecad1>\u001b[0m in \u001b[0;36m<module>\u001b[1;34m\u001b[0m\n\u001b[0;32m      6\u001b[0m \u001b[0mq\u001b[0m\u001b[1;33m=\u001b[0m\u001b[0mint\u001b[0m\u001b[1;33m(\u001b[0m\u001b[0minput\u001b[0m\u001b[1;33m(\u001b[0m\u001b[1;33m)\u001b[0m\u001b[1;33m)\u001b[0m\u001b[1;33m\u001b[0m\u001b[1;33m\u001b[0m\u001b[0m\n\u001b[0;32m      7\u001b[0m \u001b[1;32mfor\u001b[0m \u001b[0mi\u001b[0m \u001b[1;32min\u001b[0m \u001b[0mrange\u001b[0m\u001b[1;33m(\u001b[0m\u001b[0mq\u001b[0m\u001b[1;33m)\u001b[0m\u001b[1;33m:\u001b[0m\u001b[1;33m\u001b[0m\u001b[1;33m\u001b[0m\u001b[0m\n\u001b[1;32m----> 8\u001b[1;33m     \u001b[0mt\u001b[0m\u001b[1;33m.\u001b[0m\u001b[0mcircle\u001b[0m\u001b[1;33m(\u001b[0m\u001b[1;36m120\u001b[0m\u001b[1;33m)\u001b[0m\u001b[1;33m\u001b[0m\u001b[1;33m\u001b[0m\u001b[0m\n\u001b[0m\u001b[0;32m      9\u001b[0m     \u001b[0mt\u001b[0m\u001b[1;33m.\u001b[0m\u001b[0mrt\u001b[0m\u001b[1;33m(\u001b[0m\u001b[1;36m360\u001b[0m\u001b[1;33m/\u001b[0m\u001b[0mq\u001b[0m\u001b[1;33m)\u001b[0m\u001b[1;33m\u001b[0m\u001b[1;33m\u001b[0m\u001b[0m\n",
      "\u001b[1;32m~\\anaconda3\\lib\\turtle.py\u001b[0m in \u001b[0;36mcircle\u001b[1;34m(radius, extent, steps)\u001b[0m\n",
      "\u001b[1;31mTerminator\u001b[0m: "
     ]
    }
   ],
   "source": [
    "import turtle as t\n",
    "t.shape('turtle')\n",
    "t.speed('slow')\n",
    "t.color('red')\n",
    "\n",
    "q=int(input())\n",
    "for i in range(q):\n",
    "    t.circle(120)\n",
    "    t.rt(360/q)"
   ]
  },
  {
   "cell_type": "code",
   "execution_count": 9,
   "metadata": {},
   "outputs": [
    {
     "name": "stdout",
     "output_type": "stream",
     "text": [
      "[10, 20, 30, [500, 600]]\n",
      "4\n",
      "[500, 600]\n"
     ]
    }
   ],
   "source": [
    "#리스트 안에 리스트 append\n",
    "\n",
    "a=[10,20,30]\n",
    "a.append([500,600])\n",
    "print(a)\n",
    "print(len(a))\n",
    "print(a[-1])"
   ]
  },
  {
   "cell_type": "code",
   "execution_count": 10,
   "metadata": {},
   "outputs": [
    {
     "name": "stdout",
     "output_type": "stream",
     "text": [
      "[10, 20, 30, 500, 600]\n",
      "5\n",
      "600\n"
     ]
    }
   ],
   "source": [
    "# 리스트 확장 extend\n",
    "\n",
    "a=[10,20,30]\n",
    "a.extend([500,600])\n",
    "print(a)\n",
    "print(len(a))\n",
    "print(a[-1])"
   ]
  },
  {
   "cell_type": "code",
   "execution_count": 14,
   "metadata": {},
   "outputs": [
    {
     "name": "stdout",
     "output_type": "stream",
     "text": [
      "[10, 20, 500, 30]\n",
      "4\n",
      "[10, 500, 600, 20, 30]\n",
      "5\n"
     ]
    }
   ],
   "source": [
    "# 리스트 중간 삽입 isnert\n",
    "\n",
    "a=[10,20,30]\n",
    "a.insert(2,500)  # index번호, 값\n",
    "print(a)\n",
    "print(len(a))\n",
    "\n",
    "b=[10,20,30]\n",
    "b[1:1]=[500,600]\n",
    "print(b)\n",
    "print(len(b))"
   ]
  },
  {
   "cell_type": "code",
   "execution_count": 33,
   "metadata": {},
   "outputs": [
    {
     "name": "stdout",
     "output_type": "stream",
     "text": [
      "30\n",
      "[10, 20]\n",
      "20\n",
      "[10, 30]\n",
      "[10, 30]\n",
      "[20, 30]\n",
      "[20, 10, 30]\n",
      "[]\n",
      "[]\n"
     ]
    }
   ],
   "source": [
    "# 요소 삭제\n",
    "# pop : 마지막 요소 또는 특정 인덱스 요소 삭제\n",
    "# remove : 특정 값을 찾아서 삭제\n",
    "\n",
    "a=[10,20,30]\n",
    "print(a.pop())\n",
    "print(a)\n",
    "\n",
    "a=[10,20,30]\n",
    "print(a.pop(1))\n",
    "print(a)\n",
    "\n",
    "a=[10,20,30]\n",
    "del a[1]\n",
    "print(a)\n",
    "\n",
    "a=[10,20,30]\n",
    "a.remove(10)\n",
    "print(a)\n",
    "\n",
    "a=[10,20,10,30]\n",
    "a.remove(10)\n",
    "print(a)\n",
    "\n",
    "a=[10,20,10,30]\n",
    "del a[:]\n",
    "print(a)\n",
    "\n",
    "a=[10,20,10,30]\n",
    "a.clear()\n",
    "print(a)\n"
   ]
  },
  {
   "cell_type": "code",
   "execution_count": 25,
   "metadata": {},
   "outputs": [
    {
     "name": "stdout",
     "output_type": "stream",
     "text": [
      "2\n"
     ]
    }
   ],
   "source": [
    "# 인덱스 구하기\n",
    "\n",
    "a=[10,20,30,40,50,60,70,80,90,30]\n",
    "print(a.index(30))"
   ]
  },
  {
   "cell_type": "code",
   "execution_count": 27,
   "metadata": {
    "scrolled": true
   },
   "outputs": [
    {
     "name": "stdout",
     "output_type": "stream",
     "text": [
      "3\n"
     ]
    }
   ],
   "source": [
    "# 특정 값의 개수 구하기\n",
    "\n",
    "a=[10,20,30,40,50,30,70,80,90,30]\n",
    "print(a.count(30))"
   ]
  },
  {
   "cell_type": "code",
   "execution_count": 29,
   "metadata": {},
   "outputs": [
    {
     "name": "stdout",
     "output_type": "stream",
     "text": [
      "[30, 90, 80, 70, 60, 50, 40, 30, 20, 10]\n"
     ]
    }
   ],
   "source": [
    "# 리스트의 순서 뒤집기\n",
    "\n",
    "a=[10,20,30,40,50,60,70,80,90,30]\n",
    "a.reverse()\n",
    "print(a)"
   ]
  },
  {
   "cell_type": "code",
   "execution_count": 32,
   "metadata": {
    "scrolled": true
   },
   "outputs": [
    {
     "name": "stdout",
     "output_type": "stream",
     "text": [
      "[10, 20, 30, 30, 40, 50, 60, 70, 80, 90]\n",
      "[90, 80, 70, 60, 50, 40, 30, 30, 20, 10]\n",
      "[10, 20, 30, 40, 50, 60, 70, 80, 90, 30]\n"
     ]
    }
   ],
   "source": [
    "# 리스트의 요소 정렬\n",
    "\n",
    "# 오름차순\n",
    "a=[10,20,30,40,50,60,70,80,90,30]\n",
    "a.sort()\n",
    "print(a)\n",
    "\n",
    "# 내림차순\n",
    "a=[10,20,30,40,50,60,70,80,90,30]\n",
    "a.sort(reverse=True)\n",
    "print(a)\n",
    "\n",
    "# 정렬하여 새 리스트 생성\n",
    "b=[10,20,30,40,50,60,70,80,90,30]\n",
    "sorted(b)\n",
    "print(b)\n"
   ]
  },
  {
   "cell_type": "code",
   "execution_count": 35,
   "metadata": {},
   "outputs": [
    {
     "name": "stdout",
     "output_type": "stream",
     "text": [
      "[0, 0, 0, 0, 0]\n",
      "[0, 0, 0, 0, 0]\n"
     ]
    }
   ],
   "source": [
    "# 리스트 복사\n",
    "a=[0,0,0,0,0]\n",
    "b=a.copy()\n",
    "\n",
    "print(a)\n",
    "print(b)"
   ]
  },
  {
   "cell_type": "code",
   "execution_count": 37,
   "metadata": {},
   "outputs": [
    {
     "name": "stdout",
     "output_type": "stream",
     "text": [
      "1 38\n",
      "2 21\n",
      "3 53\n",
      "4 62\n",
      "5 19\n",
      "-----\n",
      "2 38\n",
      "3 21\n",
      "4 53\n",
      "5 62\n",
      "6 19\n"
     ]
    }
   ],
   "source": [
    "# 인덱스와 요소를 함께 출력\n",
    "\n",
    "a=[38, 21,53,62,19]\n",
    "for index, value in enumerate(a):\n",
    "    print(index+1,value)\n",
    "\n",
    "print('-----')    \n",
    "\n",
    "a=[38, 21,53,62,19]\n",
    "for index, value in enumerate(a, start=1):\n",
    "    print(index+1,value)"
   ]
  },
  {
   "cell_type": "code",
   "execution_count": 42,
   "metadata": {},
   "outputs": [
    {
     "name": "stdout",
     "output_type": "stream",
     "text": [
      "19\n",
      "62\n",
      "193\n"
     ]
    }
   ],
   "source": [
    "#최대,최소,합계\n",
    "\n",
    "a=[38, 21,53,62,19]\n",
    "print(min(a))\n",
    "print(max(a))\n",
    "print(sum(a))\n"
   ]
  },
  {
   "cell_type": "code",
   "execution_count": 69,
   "metadata": {},
   "outputs": [
    {
     "name": "stdout",
     "output_type": "stream",
     "text": [
      "[0, 1, 2, 3, 4, 5, 6, 7, 8, 9]\n",
      "[0, 1, 2, 3, 4, 5, 6, 7, 8, 9]\n",
      "----\n",
      "[0, 2, 4, 6, 8]\n",
      "[0, 2, 4, 6, 8]\n",
      "----\n",
      "[6, 8, 10, 12, 14]\n",
      "[6, 8, 10, 12, 14]\n",
      "----\n",
      "\n",
      "1 * 2 = 2\n",
      "2 * 2 = 4\n",
      "3 * 2 = 6\n",
      "4 * 2 = 8\n",
      "5 * 2 = 10\n",
      "6 * 2 = 12\n",
      "7 * 2 = 14\n",
      "8 * 2 = 16\n",
      "9 * 2 = 18\n",
      "\n",
      "1 * 3 = 3\n",
      "2 * 3 = 6\n",
      "3 * 3 = 9\n",
      "4 * 3 = 12\n",
      "5 * 3 = 15\n",
      "6 * 3 = 18\n",
      "7 * 3 = 21\n",
      "8 * 3 = 24\n",
      "9 * 3 = 27\n",
      "\n",
      "1 * 4 = 4\n",
      "2 * 4 = 8\n",
      "3 * 4 = 12\n",
      "4 * 4 = 16\n",
      "5 * 4 = 20\n",
      "6 * 4 = 24\n",
      "7 * 4 = 28\n",
      "8 * 4 = 32\n",
      "9 * 4 = 36\n",
      "\n",
      "1 * 5 = 5\n",
      "2 * 5 = 10\n",
      "3 * 5 = 15\n",
      "4 * 5 = 20\n",
      "5 * 5 = 25\n",
      "6 * 5 = 30\n",
      "7 * 5 = 35\n",
      "8 * 5 = 40\n",
      "9 * 5 = 45\n",
      "\n",
      "1 * 6 = 6\n",
      "2 * 6 = 12\n",
      "3 * 6 = 18\n",
      "4 * 6 = 24\n",
      "5 * 6 = 30\n",
      "6 * 6 = 36\n",
      "7 * 6 = 42\n",
      "8 * 6 = 48\n",
      "9 * 6 = 54\n",
      "\n",
      "1 * 7 = 7\n",
      "2 * 7 = 14\n",
      "3 * 7 = 21\n",
      "4 * 7 = 28\n",
      "5 * 7 = 35\n",
      "6 * 7 = 42\n",
      "7 * 7 = 49\n",
      "8 * 7 = 56\n",
      "9 * 7 = 63\n",
      "\n",
      "1 * 8 = 8\n",
      "2 * 8 = 16\n",
      "3 * 8 = 24\n",
      "4 * 8 = 32\n",
      "5 * 8 = 40\n",
      "6 * 8 = 48\n",
      "7 * 8 = 56\n",
      "8 * 8 = 64\n",
      "9 * 8 = 72\n",
      "\n",
      "1 * 9 = 9\n",
      "2 * 9 = 18\n",
      "3 * 9 = 27\n",
      "4 * 9 = 36\n",
      "5 * 9 = 45\n",
      "6 * 9 = 54\n",
      "7 * 9 = 63\n",
      "8 * 9 = 72\n",
      "9 * 9 = 81\n",
      "\n",
      "[2, 4, 6, 8, 10, 12, 14, 16, 18, 3, 6, 9, 12, 15, 18, 21, 24, 27, 4, 8, 12, 16, 20, 24, 28, 32, 36, 5, 10, 15, 20, 25, 30, 35, 40, 45, 6, 12, 18, 24, 30, 36, 42, 48, 54, 7, 14, 21, 28, 35, 42, 49, 56, 63, 8, 16, 24, 32, 40, 48, 56, 64, 72, 9, 18, 27, 36, 45, 54, 63, 72, 81]\n"
     ]
    }
   ],
   "source": [
    "#리스트 표현식\n",
    "\n",
    "a=[]\n",
    "for i in range(10):\n",
    "    a.append(i)\n",
    "print(a)\n",
    "\n",
    "a=[i for i in range(10)]\n",
    "print(a)\n",
    "\n",
    "print('----')\n",
    "\n",
    "a=[]\n",
    "for i in range(10):\n",
    "    if i%2==0:\n",
    "        a.append(i)\n",
    "print(a)\n",
    "        \n",
    "a=[i for i in range(10) if i%2==0]\n",
    "print(a)\n",
    "\n",
    "print('----')\n",
    "\n",
    "a=[]\n",
    "for i in range(10):\n",
    "    if i%2==1:\n",
    "        a.append(i+5)\n",
    "print(a)\n",
    "\n",
    "a=[i+5 for i in range(10) if i%2==1]\n",
    "print(a)\n",
    "\n",
    "print('----')\n",
    "\n",
    "for j in range(2,10):\n",
    "    print('')\n",
    "    for i in range(1,10):\n",
    "        print(i,'*',j,'=',i*j)\n",
    "print('')\n",
    "a=[i*j for j in range(2,10) \n",
    "           for i in range(1,10)]\n",
    "print(a)"
   ]
  },
  {
   "cell_type": "code",
   "execution_count": 65,
   "metadata": {},
   "outputs": [
    {
     "name": "stdout",
     "output_type": "stream",
     "text": [
      "[1, 2, 3, 4]\n",
      "[1, 2, 3, 4]\n",
      "10 20\n",
      "[10, 20]\n"
     ]
    }
   ],
   "source": [
    "# 리스트에 map 사용\n",
    "\n",
    "a=[1.2,2.5,3.7,4.6]\n",
    "for i in range(len(a)):\n",
    "    a[i]=int(a[i])\n",
    "print(a)\n",
    "\n",
    "a=[1.2,2.5,3.7,4.6]\n",
    "a=list(map(int,a))\n",
    "print(a)\n",
    "\n",
    "a=map(int,input().split())\n",
    "print(list(a))"
   ]
  },
  {
   "cell_type": "code",
   "execution_count": null,
   "metadata": {},
   "outputs": [],
   "source": [
    "# 튜플에..\n",
    "# 리스트에 한거 똑같이.. 가능.."
   ]
  }
 ],
 "metadata": {
  "kernelspec": {
   "display_name": "Python 3",
   "language": "python",
   "name": "python3"
  },
  "language_info": {
   "codemirror_mode": {
    "name": "ipython",
    "version": 3
   },
   "file_extension": ".py",
   "mimetype": "text/x-python",
   "name": "python",
   "nbconvert_exporter": "python",
   "pygments_lexer": "ipython3",
   "version": "3.8.3"
  }
 },
 "nbformat": 4,
 "nbformat_minor": 4
}
