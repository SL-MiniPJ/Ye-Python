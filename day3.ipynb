{
 "cells": [
  {
   "cell_type": "code",
   "execution_count": 23,
   "metadata": {},
   "outputs": [
    {
     "name": "stdout",
     "output_type": "stream",
     "text": [
      "a[] :  [[10, 20], [30, 40], [50, 60]]\n",
      "a의 길이 :  3\n",
      "a[0] :  [10, 20]\n",
      "a[0][1] :  20\n"
     ]
    }
   ],
   "source": [
    "#2차원 리스트\n",
    "\n",
    "a=[[10,20],[30,40],[50,60]]\n",
    "print('a[] : ',a)\n",
    "print('a의 길이 : ',len(a))\n",
    "print('a[0] : ',a[0])\n",
    "print('a[0][1] : ',a[0][1])"
   ]
  },
  {
   "cell_type": "code",
   "execution_count": 32,
   "metadata": {},
   "outputs": [
    {
     "name": "stdout",
     "output_type": "stream",
     "text": [
      "10 20\n",
      "30 40\n",
      "50 60\n"
     ]
    }
   ],
   "source": [
    "a=[[10,20],[30,40],[50,60]]\n",
    "\n",
    "for i,j in a:\n",
    "    print(i, j)\n",
    "    \n",
    "#for i in range(len(a)):\n",
    "#    for j in range(len(a[i])):\n",
    "#        print(a[i][j])"
   ]
  },
  {
   "cell_type": "code",
   "execution_count": 37,
   "metadata": {},
   "outputs": [
    {
     "name": "stdout",
     "output_type": "stream",
     "text": [
      "10 20\n",
      "30 40\n",
      "50 60\n"
     ]
    }
   ],
   "source": [
    "a=[[10,20],[30,40],[50,60]]\n",
    "i=0\n",
    "while i<len(a):\n",
    "    x,y=a[i]\n",
    "    print(x,y)\n",
    "    i+=1"
   ]
  },
  {
   "cell_type": "code",
   "execution_count": 41,
   "metadata": {},
   "outputs": [
    {
     "name": "stdout",
     "output_type": "stream",
     "text": [
      "[[1, 2], [1, 2], [1, 2]]\n"
     ]
    }
   ],
   "source": [
    "# 반복문으로 2차원 리스트 만들기\n",
    "\n",
    "a=[]\n",
    "for i in range(3):\n",
    "    line = []     \n",
    "    for j in range(2):\n",
    "        line.append(j+1)\n",
    "    a.append(line)\n",
    "    \n",
    "print(a)"
   ]
  },
  {
   "cell_type": "code",
   "execution_count": 44,
   "metadata": {},
   "outputs": [
    {
     "name": "stdout",
     "output_type": "stream",
     "text": [
      "[[0, 0], [0, 0], [0, 0]]\n"
     ]
    }
   ],
   "source": [
    "# 리스트 표현식으로 2차원 리스트 만들기\n",
    "\n",
    "a=[[0 for j in range(2)] for i in range(3)]  # 2개짜리 먼저 만들고 그걸 3번 반복함\n",
    "print(a)"
   ]
  },
  {
   "cell_type": "code",
   "execution_count": 48,
   "metadata": {},
   "outputs": [
    {
     "name": "stdout",
     "output_type": "stream",
     "text": [
      "[[0, 0, 0], [0], [0, 0, 0], [0, 0], [0, 0, 0, 0, 0]]\n"
     ]
    }
   ],
   "source": [
    "# 톱니형 리스트\n",
    "\n",
    "a=[3, 1, 3, 2, 5]\n",
    "b=[]\n",
    "\n",
    "for i in a:\n",
    "    line = []\n",
    "    for j in range(i):\n",
    "        line.append(0)\n",
    "    b.append(line)\n",
    "\n",
    "print(b)"
   ]
  },
  {
   "cell_type": "code",
   "execution_count": 47,
   "metadata": {},
   "outputs": [
    {
     "name": "stdout",
     "output_type": "stream",
     "text": [
      "[[0, 0, 0], [0], [0, 0, 0], [0, 0], [0, 0, 0, 0, 0]]\n"
     ]
    }
   ],
   "source": [
    "# 표현식으로 톱니형 리스트 만들기\n",
    "\n",
    "a= [[0]*i for i in [3, 1, 3, 2, 5]]\n",
    "print(a)"
   ]
  },
  {
   "cell_type": "code",
   "execution_count": 51,
   "metadata": {},
   "outputs": [
    {
     "name": "stdout",
     "output_type": "stream",
     "text": [
      "[[10, 20], [30, 40], [50, 60]]\n",
      "[[10, 20], [30, 40], [50, 60]]\n",
      "b[0][0]=500 적용\n",
      "[[10, 20], [30, 40], [50, 60]]\n",
      "[[500, 20], [30, 40], [50, 60]]\n"
     ]
    }
   ],
   "source": [
    "# 리스트 복사\n",
    "import copy\n",
    "\n",
    "a=[[10,20],[30,40],[50,60]]\n",
    "b=a.copy()  # 이러면 제대로 복사 안됨.\n",
    "\n",
    "# deep copy\n",
    "b=copy.deepcopy(a)\n",
    "\n",
    "print(a)\n",
    "print(b)\n",
    "\n",
    "b[0][0]=500\n",
    "print('b[0][0]=500 적용')\n",
    "\n",
    "print(a)\n",
    "print(b)"
   ]
  },
  {
   "cell_type": "code",
   "execution_count": 52,
   "metadata": {},
   "outputs": [
    {
     "name": "stdout",
     "output_type": "stream",
     "text": [
      "[[[0, 0, 0], [0, 0, 0], [0, 0, 0], [0, 0, 0]], [[0, 0, 0], [0, 0, 0], [0, 0, 0], [0, 0, 0]]]\n"
     ]
    }
   ],
   "source": [
    "# 23-6\n",
    "\n",
    "a=[[[0 for col in range(3)] for row in range(4)] for hi in range(2)]\n",
    "print(a)"
   ]
  },
  {
   "cell_type": "code",
   "execution_count": 69,
   "metadata": {},
   "outputs": [
    {
     "name": "stdout",
     "output_type": "stream",
     "text": [
      "3 3\n",
      ".*.*.*\n",
      ".*.*.*\n",
      ".*.*.*\n"
     ]
    }
   ],
   "source": [
    "# 23-7  ## 아직 못함\n",
    "\n",
    "col, row = map(int, input().split())\n",
    "matrix=[input() for col in range(col)]"
   ]
  },
  {
   "cell_type": "code",
   "execution_count": 74,
   "metadata": {},
   "outputs": [
    {
     "name": "stdout",
     "output_type": "stream",
     "text": [
      "hello, world, Python!\n",
      "hello, world\n",
      "hello, world, Python!\n"
     ]
    }
   ],
   "source": [
    "# 문자열 응용\n",
    "\n",
    "# 문자열 바꾸기\n",
    "\n",
    "s='hello, world'\n",
    "print(s.replace('ld','ld, Python!'))\n",
    "print(s)\n",
    "\n",
    "splus=s.replace('ld','ld, Python!')\n",
    "print(splus)"
   ]
  },
  {
   "cell_type": "code",
   "execution_count": 76,
   "metadata": {},
   "outputs": [
    {
     "name": "stdout",
     "output_type": "stream",
     "text": [
      "1ppl2\n"
     ]
    }
   ],
   "source": [
    "# 문자 바꾸기\n",
    "\n",
    "table=str.maketrans('aeiou','12345')\n",
    "t='apple'.translate(table)\n",
    "print(t)"
   ]
  },
  {
   "cell_type": "code",
   "execution_count": 77,
   "metadata": {},
   "outputs": [
    {
     "name": "stdout",
     "output_type": "stream",
     "text": [
      "['apple', 'pear', 'grape', 'pineapple', 'orange']\n"
     ]
    }
   ],
   "source": [
    "# 문자 분리하기\n",
    "\n",
    "t='apple pear grape pineapple orange'.split()\n",
    "print(t)"
   ]
  },
  {
   "cell_type": "code",
   "execution_count": 79,
   "metadata": {},
   "outputs": [
    {
     "name": "stdout",
     "output_type": "stream",
     "text": [
      "apple-pear-grape-pineapple-orange\n"
     ]
    }
   ],
   "source": [
    "# 문자열 리스트 연결\n",
    "\n",
    "t=' - '.join(['apple', 'pear', 'grape', 'pineapple', 'orange'])\n",
    "print(t)"
   ]
  },
  {
   "cell_type": "code",
   "execution_count": 92,
   "metadata": {},
   "outputs": [
    {
     "name": "stdout",
     "output_type": "stream",
     "text": [
      "APPLE\n",
      "apple\n"
     ]
    }
   ],
   "source": [
    "a='apple'\n",
    "b='APPLE'\n",
    "# 대문자로\n",
    "print(a.upper())\n",
    "\n",
    "# 소문자로\n",
    "print(b.lower())"
   ]
  },
  {
   "cell_type": "code",
   "execution_count": 82,
   "metadata": {},
   "outputs": [
    {
     "name": "stdout",
     "output_type": "stream",
     "text": [
      "Pyton  :  Pyton : Pyton\n"
     ]
    }
   ],
   "source": [
    "\n",
    "# 공백 삭제\n",
    "\n",
    "#왼쪽\n",
    "l=' Pyton '.lstrip()\n",
    "#오른쪽\n",
    "r=' Pyton '.rstrip()\n",
    "#양쪽\n",
    "f=' Pyton '.strip()\n",
    "\n",
    "print(l,':',r,':',f)"
   ]
  },
  {
   "cell_type": "code",
   "execution_count": 84,
   "metadata": {},
   "outputs": [
    {
     "name": "stdout",
     "output_type": "stream",
     "text": [
      "Pyton. : ,Pyton : Pyton\n"
     ]
    }
   ],
   "source": [
    "# 특정 문자 삭제\n",
    "\n",
    "#왼쪽\n",
    "l=',Pyton.'.lstrip(',.')\n",
    "#오른쪽\n",
    "r=',Pyton.'.rstrip(',.')\n",
    "#양쪽\n",
    "f=',Pyton.'.strip(',.')\n",
    "\n",
    "print(l,':',r,':',f)"
   ]
  },
  {
   "cell_type": "code",
   "execution_count": null,
   "metadata": {},
   "outputs": [],
   "source": [
    "# 특정 문자로 채우기\n",
    "\n"
   ]
  },
  {
   "cell_type": "code",
   "execution_count": 91,
   "metadata": {},
   "outputs": [
    {
     "name": "stdout",
     "output_type": "stream",
     "text": [
      "Pyton      :      Pyton :   Pyton   \n"
     ]
    }
   ],
   "source": [
    "# 길이를 할당하여 정렬하기 \n",
    "\n",
    "#왼쪽\n",
    "l='Pyton'.ljust(10)\n",
    "#오른쪽\n",
    "r='Pyton'.rjust(10)\n",
    "#가운데\n",
    "f='Pyton'.center(10)\n",
    "\n",
    "print(l,':',r,':',f)"
   ]
  },
  {
   "cell_type": "code",
   "execution_count": 94,
   "metadata": {},
   "outputs": [
    {
     "name": "stdout",
     "output_type": "stream",
     "text": [
      "    PYTHON\n"
     ]
    }
   ],
   "source": [
    "# 메소드 체이닝\n",
    "\n",
    "# 뭐. 뭐. 뭐 = 뭐 의 뭐 의 뭐\n",
    "\n",
    "t='python'.rjust(10).upper()\n",
    "print(t)"
   ]
  },
  {
   "cell_type": "code",
   "execution_count": 99,
   "metadata": {},
   "outputs": [
    {
     "name": "stdout",
     "output_type": "stream",
     "text": [
      "2\n",
      "12\n",
      "2\n",
      "12\n"
     ]
    }
   ],
   "source": [
    "# 문자열 위치 찾기\n",
    "\n",
    "# 왼쪽 부터\n",
    "t='apple pineapple'.find('pl')\n",
    "print(t)\n",
    "# 오른쪽 부터\n",
    "t='apple pineapple'.rfind('pl')\n",
    "print(t)\n",
    "\n",
    "# 왼쪽 부터\n",
    "t='apple pineapple'.index('pl')\n",
    "print(t)\n",
    "# 오른쪽 부터\n",
    "t='apple pineapple'.rindex('pl')\n",
    "print(t)\n"
   ]
  },
  {
   "cell_type": "code",
   "execution_count": 113,
   "metadata": {},
   "outputs": [
    {
     "name": "stdout",
     "output_type": "stream",
     "text": [
      "ye\n",
      "I am ye.\n",
      "ye\n",
      "I am    ye.\n",
      "27\n",
      "I am 27 years old.\n",
      "27\n",
      "I am 27.00 years old.\n"
     ]
    }
   ],
   "source": [
    "# 서식 , 포맷팅\n",
    "\n",
    "name = input()\n",
    "a='I am %s.'% name\n",
    "print(a)\n",
    "\n",
    "name = input()\n",
    "a='I am %5s.'% name\n",
    "print(a)\n",
    "\n",
    "age= int(input())\n",
    "a='I am %d years old.'% age\n",
    "print(a)\n",
    "\n",
    "age= int(input())\n",
    "a='I am %.2f years old.'% age\n",
    "print(a)\n"
   ]
  },
  {
   "cell_type": "code",
   "execution_count": 119,
   "metadata": {},
   "outputs": [
    {
     "name": "stdout",
     "output_type": "stream",
     "text": [
      "hello, Python 3.6 Script Python\n",
      "hello, Python 3.6\n"
     ]
    }
   ],
   "source": [
    "# format 메소드\n",
    "\n",
    "t='hello, {0} {2} {1} {0}'.format('Python','Script',3.6)\n",
    "print(t)\n",
    "\n",
    "t='hello, {language} {version}'.format(language='Python',version=3.6)\n",
    "print(t)"
   ]
  },
  {
   "cell_type": "code",
   "execution_count": 121,
   "metadata": {},
   "outputs": [
    {
     "name": "stdout",
     "output_type": "stream",
     "text": [
      "python.exe\n"
     ]
    }
   ],
   "source": [
    "# 24-4\n",
    "\n",
    "path = 'C:\\\\User\\\\dojang\\\\AppDate\\\\Local\\\\Programs\\\\Python\\\\Python36-32\\\\python.exe'\n",
    "x=path.split('\\\\')\n",
    "filename=x[-1]\n",
    "print(filename)"
   ]
  },
  {
   "cell_type": "code",
   "execution_count": 157,
   "metadata": {},
   "outputs": [
    {
     "name": "stdout",
     "output_type": "stream",
     "text": [
      "the grown-ups' reponse, this time, the, was to advise me to lay them ther thier the.\n",
      "3\n"
     ]
    }
   ],
   "source": [
    "#24-5\n",
    "\n",
    "text=input().replace(',',' ').replace('.',' ').split(' ')\n",
    "# the grown-ups' reponse, this time, the, was to advise me to lay them ther thier the.\n",
    "\n",
    "print(text.count('the'))"
   ]
  },
  {
   "cell_type": "code",
   "execution_count": 216,
   "metadata": {},
   "outputs": [
    {
     "name": "stdout",
     "output_type": "stream",
     "text": [
      "5151;16161616;151517\n",
      "16,161,616\n",
      "  151,517\n",
      "    5,151\n"
     ]
    }
   ],
   "source": [
    "#24-6\n",
    "\n",
    "text=input().split(';')\n",
    "t=[]\n",
    "\n",
    "for i in range(len(text)):\n",
    "    text[i]='%9s'%format(int(text[i]),',')\n",
    "    t.append(text[i])\n",
    "\n",
    "t.sort(reverse=True)\n",
    "\n",
    "for i in range(len(t)):\n",
    "    print(t[i])"
   ]
  },
  {
   "cell_type": "code",
   "execution_count": 217,
   "metadata": {},
   "outputs": [
    {
     "name": "stdout",
     "output_type": "stream",
     "text": [
      "{'a': 10, 'b': 20, 'c': 30, 'd': None}\n",
      "{'a': 10, 'b': 20, 'c': 30, 'd': 40}\n",
      "{'a': 100, 'b': 20, 'c': 300, 'd': 40}\n",
      "{'a': 111, 'b': 20, 'c': 300, 'd': 40, 'e': 555}\n"
     ]
    }
   ],
   "source": [
    "# 딕셔너리 응용\n",
    "\n",
    "# 추가 (키 값 중복 불가. 추가 할 때 키가 이미 있는 경우 추가 안 됨.)\n",
    "x={'a':10, 'b':20, 'c':30}\n",
    "x.setdefault('d')\n",
    "print(x)\n",
    "\n",
    "# 수정 ( 없는 값을 수정 하려고 하면 그냥 추가 됨.)\n",
    "x.update(d=40)\n",
    "print(x)\n",
    "\n",
    "x.update(a=100,c=300)\n",
    "print(x)\n",
    "\n",
    "# 수정 추가 동시 가능\n",
    "x.update(a=111,e=555)\n",
    "print(x)"
   ]
  },
  {
   "cell_type": "code",
   "execution_count": 218,
   "metadata": {},
   "outputs": [
    {
     "name": "stdout",
     "output_type": "stream",
     "text": [
      "{1: 'ONE', 2: 'two', 3: 'THREE'}\n"
     ]
    }
   ],
   "source": [
    "y={1:'one',2:'two'}\n",
    "y.update({1:'ONE',3:'THREE'}) ## 키 값이 문자열이 아니면 이렇게! 딕셔너리 형태로!\n",
    "print(y)"
   ]
  },
  {
   "cell_type": "code",
   "execution_count": 221,
   "metadata": {},
   "outputs": [
    {
     "name": "stdout",
     "output_type": "stream",
     "text": [
      "삭제 된 키-값 :  ('d', 40)\n",
      "{'a': 10, 'b': 20, 'c': 30}\n"
     ]
    }
   ],
   "source": [
    "# 임의의 키-값 쌍 삭제 popitem()\n",
    "\n",
    "x={'a':10,'b':20,'c':30,'d':40}\n",
    "t=x.popitem()\n",
    "\n",
    "print('삭제 된 키-값 : ',t)\n",
    "print(x)"
   ]
  },
  {
   "cell_type": "code",
   "execution_count": 223,
   "metadata": {},
   "outputs": [
    {
     "name": "stdout",
     "output_type": "stream",
     "text": [
      "dict_items([('a', 10), ('b', 20), ('c', 30), ('d', 40)])\n",
      "dict_keys(['a', 'b', 'c', 'd'])\n",
      "dict_values([10, 20, 30, 40])\n"
     ]
    }
   ],
   "source": [
    "# 키-값 쌍으로 모두 가져오기\n",
    "\n",
    "x={'a':10,'b':20,'c':30,'d':40}\n",
    "\n",
    "# 키-값 쌍으로 \n",
    "t=x.items()\n",
    "print(t)\n",
    "# 키 만\n",
    "t=x.keys()\n",
    "print(t)\n",
    "# 값 만\n",
    "t=x.values()\n",
    "print(t)"
   ]
  },
  {
   "cell_type": "code",
   "execution_count": 230,
   "metadata": {},
   "outputs": [
    {
     "name": "stdout",
     "output_type": "stream",
     "text": [
      "6051.8\n"
     ]
    }
   ],
   "source": [
    "# 딕셔너리 안에 딕셔너리 사용하기 - json 형식처럼 생김..!\n",
    "# 딕셔너리 = { 키:{키:값}, 키:{키:값} } : 값 부분에 딕셔너리가 들어간다.\n",
    "\n",
    "planet = {\n",
    "    'Mercury':{\n",
    "        'mean_radius':2439.7,\n",
    "        'mass':3.3022E+23,\n",
    "        'orbital_period':87.969\n",
    "    },\n",
    "    'Venus':{\n",
    "        'mean_radius':6051.8,\n",
    "        'mass':4.8676E+24,\n",
    "        'orbital_period':224.70069\n",
    "    },\n",
    "    'Earth':{\n",
    "        'mean_radius':6371.0,\n",
    "        'mass':5.97219E+24,\n",
    "        'orbital_period':365.28641\n",
    "    }\n",
    "}\n",
    "\n",
    "print(planet['Venus']['mean_radius'])"
   ]
  },
  {
   "cell_type": "code",
   "execution_count": 232,
   "metadata": {},
   "outputs": [
    {
     "name": "stdout",
     "output_type": "stream",
     "text": [
      "89.25\n"
     ]
    }
   ],
   "source": [
    "# 25-7\n",
    "\n",
    "maria={'korea':94,'english':91,'math':89,'science':83}\n",
    "avg=sum(maria.values())/len(maria)\n",
    "print(avg)"
   ]
  },
  {
   "cell_type": "code",
   "execution_count": 244,
   "metadata": {},
   "outputs": [
    {
     "name": "stdout",
     "output_type": "stream",
     "text": [
      "alpha bravo charlie delta\n",
      "10 20 30 40\n",
      "{'alpha': 10, 'bravo': 20}\n"
     ]
    }
   ],
   "source": [
    "# 25-8  alpha bravo charlie delta\n",
    "\n",
    "key=input().split()\n",
    "val=map(int,input().split())\n",
    "\n",
    "x=dict(zip(key,val))\n",
    "\n",
    "x.pop('delta')\n",
    "\n",
    "x={key:value for key,value in x.items() if value !=30}\n",
    "\n",
    "print(x)"
   ]
  },
  {
   "cell_type": "code",
   "execution_count": 266,
   "metadata": {},
   "outputs": [
    {
     "name": "stdout",
     "output_type": "stream",
     "text": [
      "Hello, Python!\n"
     ]
    }
   ],
   "source": [
    "# 파일 사용하기\n",
    "\n",
    "file = open('hello.txt','w')  # 파일 객체 열기 ( 파일 이름, 파일 모드 )\n",
    "file.write('Hello, Python!')  # 파일에 내용 저장\n",
    "file.close()  # 파일 객체 종료\n",
    "\n",
    "file = open('hello.txt','r')  # 파일을 읽기 모드로 열기\n",
    "s=file.read()  # 파일에서 문자열 읽기\n",
    "print(s)\n",
    "file.close()\n"
   ]
  },
  {
   "cell_type": "code",
   "execution_count": 267,
   "metadata": {},
   "outputs": [],
   "source": [
    "with open('hello.txt','w') as file:\n",
    "    for i in range(3):\n",
    "        file.write('Hello, Python!{0}\\n'.format(i))"
   ]
  },
  {
   "cell_type": "code",
   "execution_count": 269,
   "metadata": {},
   "outputs": [],
   "source": [
    "# 리스트에 들어있는 문자열을 파일에 쓰기\n",
    "\n",
    "lines = ['안녕하세요\\n','파이썬\\n','코딩도장\\n']\n",
    "with open('hello.txt','w') as file:\n",
    "    file.writelines(lines)"
   ]
  },
  {
   "cell_type": "code",
   "execution_count": 270,
   "metadata": {},
   "outputs": [
    {
     "name": "stdout",
     "output_type": "stream",
     "text": [
      "['안녕하세요\\n', '파이썬\\n', '코딩도장\\n']\n"
     ]
    }
   ],
   "source": [
    "# 파일의 내용을 한 줄씩 리스트로 가져오기\n",
    "\n",
    "with open('hello.txt','r') as file:\n",
    "    lines=file.readlines()\n",
    "    print(lines)"
   ]
  },
  {
   "cell_type": "code",
   "execution_count": 275,
   "metadata": {},
   "outputs": [
    {
     "name": "stdout",
     "output_type": "stream",
     "text": [
      "안녕하세요\n",
      "파이썬\n",
      "코딩도장\n",
      "\n",
      "안녕하세요\n",
      "파이썬\n",
      "코딩도장\n"
     ]
    }
   ],
   "source": [
    "# 파일의 내용을 한 줄씩 읽기\n",
    "\n",
    "with open('hello.txt','r') as file:\n",
    "    line=None\n",
    "    while line !='':\n",
    "        line=file.readline()\n",
    "        print(line.strip('\\n'))\n",
    "        \n",
    "with open('hello.txt','r') as file:\n",
    "    for line in file:\n",
    "        print(line.strip('\\n'))        "
   ]
  },
  {
   "cell_type": "code",
   "execution_count": 276,
   "metadata": {},
   "outputs": [],
   "source": [
    "# 파이썬 객체를 파일에 저장하기/가져오기  피클링/언피클링\n",
    "import pickle\n",
    "\n",
    "name='james'\n",
    "age=17\n",
    "address='서울시 서초구 반포동'\n",
    "scores = {'korean':90, 'english':95, 'math':85, 'science':82}\n",
    "                    # ↓바이너리 타입\n",
    "with open('james.p','wb') as file:\n",
    "    pickle.dump(name,file)\n",
    "    pickle.dump(age,file)\n",
    "    pickle.dump(address,file)\n",
    "    pickle.dump(scores,file)\n",
    "    "
   ]
  },
  {
   "cell_type": "code",
   "execution_count": 277,
   "metadata": {},
   "outputs": [
    {
     "name": "stdout",
     "output_type": "stream",
     "text": [
      "james\n",
      "17\n",
      "서울시 서초구 반포동\n",
      "{'korean': 90, 'english': 95, 'math': 85, 'science': 82}\n"
     ]
    }
   ],
   "source": [
    "# 파일에서 파이썬 객체 읽기\n",
    "import pickle\n",
    "\n",
    "with open('james.p','rb') as file:\n",
    "    name=pickle.load(file)\n",
    "    age=pickle.load(file)\n",
    "    address=pickle.load(file)\n",
    "    scores=pickle.load(file)\n",
    "    print(name)\n",
    "    print(age)\n",
    "    print(address)\n",
    "    print(scores)"
   ]
  },
  {
   "cell_type": "code",
   "execution_count": 42,
   "metadata": {},
   "outputs": [
    {
     "name": "stdout",
     "output_type": "stream",
     "text": [
      "1.등록 | 2.검색 | 3.삭제 | 4.수정 | 5.전체 조회5\n",
      "전체 조회\n",
      "test1 : {'국어': '10', '영어': '20', '수학': '30', '과학': '40'}\n",
      "test4 : {'국어': '30', '영어': '40', '수학': '50', '과학': '60'}\n",
      "test2 : {'국어': '12', '영어': '12', '수학': '12', '과학': '12'}\n"
     ]
    }
   ],
   "source": [
    "# 성적처리 program  # 등록, 검색, 삭제, 수정, 조회, 파일 입출력\n",
    "import pickle\n",
    "\n",
    "subject=['국어','영어','수학','과학']\n",
    "program = dict()\n",
    "\n",
    "menu=int(input('1.등록 | 2.검색 | 3.삭제 | 4.수정 | 5.전체 조회'))\n",
    "\n",
    "if menu==1: # 등록\n",
    "    print('등록하기')\n",
    "    with open('score/program.p','rb') as file:\n",
    "        program=pickle.load(file)\n",
    "    \n",
    "    name=input('이름 : ')\n",
    "    scores = {subject[0]:input('국어 : '), subject[1]:input('영어 : '), \n",
    "              subject[2]:input('수학 : '), subject[3]:input('과학 : ')}\n",
    "    program.setdefault(name,scores)\n",
    "    \n",
    "    with open('score/program.p','wb') as file:\n",
    "        pickle.dump(program,file)\n",
    "\n",
    "if menu==2: # 검색\n",
    "    print('검색하기')\n",
    "    name=input('이름 : ')\n",
    "    with open('score/program.p','rb') as file:\n",
    "        program=pickle.load(file)\n",
    "        if program.get(name) !=None :\n",
    "            print(name,'성적')\n",
    "            print(program.get(name))\n",
    "        else:\n",
    "            print('존재하지 않는 학생입니다.')\n",
    "\n",
    "if menu==3: # 삭제\n",
    "    print('삭제하기')\n",
    "    name=input('이름 : ')\n",
    "    with open('score/program.p','rb') as file:\n",
    "        program=pickle.load(file)\n",
    "        if program.get(name) !=None :\n",
    "            program.pop(name)\n",
    "            print(name,'삭제 되었습니다.')\n",
    "        else:\n",
    "            print('존재하지 않는 학생입니다.')\n",
    "\n",
    "    with open('score/program.p','wb') as file:\n",
    "        pickle.dump(program,file)\n",
    "\n",
    "if menu==4: # 수정\n",
    "    print('수정하기')\n",
    "    name=input('이름 : ')\n",
    "    with open('score/program.p','rb') as file:\n",
    "        program=pickle.load(file)\n",
    "        if program.get(name) !=None :\n",
    "            program.pop(name)    \n",
    "            nameS=name\n",
    "            scores = {subject[0]:input('국어 : '), subject[1]:input('영어 : '), \n",
    "                    subject[2]:input('수학 : '), subject[3]:input('과학 : ')}\n",
    "            program.setdefault(nameS,scores)\n",
    "    \n",
    "            with open('score/program.p','wb') as file:\n",
    "                pickle.dump(program,file)\n",
    "        else:\n",
    "            print('존재하지 않는 학생입니다.')        \n",
    "        \n",
    "if menu==5:\n",
    "    print('전체 조회')\n",
    "    with open('score/program.p','rb') as file:\n",
    "        program=pickle.load(file)\n",
    "        \n",
    "        for key, value in program.items():\n",
    "            print(key,':', value)\n"
   ]
  }
 ],
 "metadata": {
  "kernelspec": {
   "display_name": "Python 3",
   "language": "python",
   "name": "python3"
  },
  "language_info": {
   "codemirror_mode": {
    "name": "ipython",
    "version": 3
   },
   "file_extension": ".py",
   "mimetype": "text/x-python",
   "name": "python",
   "nbconvert_exporter": "python",
   "pygments_lexer": "ipython3",
   "version": "3.8.3"
  }
 },
 "nbformat": 4,
 "nbformat_minor": 4
}
