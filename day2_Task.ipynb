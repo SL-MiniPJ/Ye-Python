{
 "cells": [
  {
   "cell_type": "code",
   "execution_count": 21,
   "metadata": {},
   "outputs": [
    {
     "name": "stdout",
     "output_type": "stream",
     "text": [
      "490 -170 250 1020 80 620 210 2\n",
      "2 * 1 = 2\n",
      "2 * 2 = 4\n",
      "2 * 3 = 6\n",
      "2 * 4 = 8\n",
      "2 * 5 = 10\n",
      "2 * 6 = 12\n",
      "2 * 7 = 14\n",
      "2 * 8 = 16\n",
      "2 * 9 = 18\n"
     ]
    }
   ],
   "source": [
    "#16-5\n",
    "\n",
    "x=[49,-17,25,102,8,62,21]\n",
    "for i in x:\n",
    "    print(i*10, end=' ')\n",
    "    \n",
    "#16-6\n",
    "j=int(input())\n",
    "for i in range(1,10):\n",
    "    print(j,'*',i,'=',i*j)\n"
   ]
  },
  {
   "cell_type": "code",
   "execution_count": 23,
   "metadata": {},
   "outputs": [
    {
     "name": "stdout",
     "output_type": "stream",
     "text": [
      "2 5\n",
      "4 4\n",
      "8 3\n",
      "16 2\n",
      "32 1\n",
      "10000\n",
      "8650\n",
      "7300\n",
      "5950\n",
      "4600\n",
      "3250\n",
      "1900\n",
      "550\n"
     ]
    }
   ],
   "source": [
    "#17-5\n",
    "\n",
    "i=2\n",
    "j=5\n",
    "while i<=32 or j>=1:\n",
    "    print(i, j)\n",
    "    i *= 2\n",
    "    j -= 1\n",
    "    \n",
    "#17-6\n",
    "\n",
    "card=int(input())\n",
    "fee=1350\n",
    "\n",
    "while card>=1350:\n",
    "    card=card-fee\n",
    "    print(card)"
   ]
  },
  {
   "cell_type": "code",
   "execution_count": 10,
   "metadata": {},
   "outputs": [
    {
     "name": "stdout",
     "output_type": "stream",
     "text": [
      "3 13 23 33 43 53 63 73 \n",
      "1 20\n",
      "1 2 4 5 6 7 8 9 10 11 12 14 15 16 17 18 19 20 "
     ]
    }
   ],
   "source": [
    "#18-5\n",
    "\n",
    "i=0\n",
    "while True:\n",
    "    if i%10 != 3:\n",
    "        i += 1\n",
    "        continue\n",
    "    if i>73:\n",
    "        break\n",
    "    print(i, end=' ')\n",
    "    i += 1\n",
    "\n",
    "print('')\n",
    "\n",
    "#18-6\n",
    "\n",
    "a,b=map(int,input().split())\n",
    "x=a\n",
    "\n",
    "while True:\n",
    "    if x>=a and x%10 == 3:\n",
    "        x += 1\n",
    "        continue\n",
    "    if x>b:\n",
    "        break\n",
    "    print(x, end=' ')\n",
    "    x+=1"
   ]
  },
  {
   "cell_type": "code",
   "execution_count": 43,
   "metadata": {},
   "outputs": [
    {
     "name": "stdout",
     "output_type": "stream",
     "text": [
      " ****\n",
      "  ***\n",
      "   **\n",
      "    *\n",
      "     \n",
      "5\n",
      "    *    \n",
      "   ***   \n",
      "  *****  \n",
      " ******* \n",
      "*********\n"
     ]
    }
   ],
   "source": [
    "#19-5\n",
    "\n",
    "for i in range(5):\n",
    "    for j in range(5):\n",
    "        if j<=i:\n",
    "            print(' ', end='')\n",
    "        else:\n",
    "            print('*', end='')\n",
    "    print()\n",
    "    \n",
    "#19-6\n",
    "\n",
    "h=int(input())\n",
    "for i in range(h):\n",
    "    for j in range((h*2)-1):\n",
    "        if j<h-i-1 or j>h+i-1:\n",
    "            print(' ',end='')\n",
    "        else:\n",
    "            print('*',end='')\n",
    "    print()"
   ]
  },
  {
   "cell_type": "code",
   "execution_count": 49,
   "metadata": {},
   "outputs": [
    {
     "name": "stdout",
     "output_type": "stream",
     "text": [
      "1\n",
      "Fizz\n",
      "3\n",
      "Fizz\n",
      "5\n",
      "Fizz\n",
      "7\n",
      "Fizz\n",
      "9\n",
      "Fizz\n",
      "Buzz\n",
      "Fizz\n",
      "13\n",
      "Fizz\n",
      "15\n",
      "Fizz\n",
      "17\n",
      "Fizz\n",
      "19\n",
      "Fizz\n",
      "21\n",
      "FizzBuzz\n",
      "23\n",
      "Fizz\n",
      "25\n",
      "Fizz\n",
      "27\n",
      "Fizz\n",
      "29\n",
      "Fizz\n"
     ]
    }
   ],
   "source": [
    "#20-7\n",
    "\n",
    "for i in range(1,31):\n",
    "    if i%22==0:\n",
    "        print('FizzBuzz')\n",
    "    elif i%2==0:\n",
    "        print('Fizz')\n",
    "    elif i%11==0:\n",
    "        print('Buzz')\n",
    "    else:\n",
    "        print(i)"
   ]
  },
  {
   "cell_type": "code",
   "execution_count": 51,
   "metadata": {},
   "outputs": [
    {
     "name": "stdout",
     "output_type": "stream",
     "text": [
      "35 40\n",
      "FizzBuzz\n",
      "36\n",
      "37\n",
      "38\n",
      "39\n",
      "Fizz\n"
     ]
    }
   ],
   "source": [
    "#20-8\n",
    "\n",
    "a,b=map(int,input().split())\n",
    "\n",
    "for i in range(a,b+1):\n",
    "    if i%35==0:\n",
    "        print('FizzBuzz')\n",
    "    elif i%5==0:\n",
    "        print('Fizz')\n",
    "    elif i%7==0:\n",
    "        print('Buzz')\n",
    "    else:\n",
    "        print(i)"
   ]
  },
  {
   "cell_type": "code",
   "execution_count": 2,
   "metadata": {},
   "outputs": [
    {
     "name": "stdout",
     "output_type": "stream",
     "text": [
      "6 200\n"
     ]
    }
   ],
   "source": [
    "#21-5\n",
    "\n",
    "import turtle as t\n",
    "\n",
    "n=5\n",
    "t.shape('turtle')\n",
    "for i in range(n):\n",
    "    t.fd(100)\n",
    "    t.rt((360/n)*2)\n",
    "    t.fd(100)\n",
    "    t.lt(360/n)\n",
    "    \n",
    "#21-6\n",
    "n,l=map(int,input().split())\n",
    "t.shape('turtle')\n",
    "for i in range(n):\n",
    "    t.fd(l)\n",
    "    t.rt((360/n)*2)\n",
    "    t.fd(l)\n",
    "    t.lt(360/n)\n"
   ]
  },
  {
   "cell_type": "code",
   "execution_count": 19,
   "metadata": {},
   "outputs": [
    {
     "name": "stdout",
     "output_type": "stream",
     "text": [
      "['alpha', 'brabo', 'delta', 'hotel', 'india']\n",
      "10 20\n",
      "[1024, 4096, 8192, 16384, 32768, 65536, 131072, 262144, 1048576]\n"
     ]
    }
   ],
   "source": [
    "#22-9\n",
    "\n",
    "a=['alpha','brabo','chalie','delta','echo','foxtrot','golf','hotel','india']\n",
    "b=[i for i in a if len(i)==5]\n",
    "print(b)\n",
    "\n",
    "#22-10\n",
    "\n",
    "a,b=map(int,input().split())\n",
    "l=[2**i for i in range(a,b+1)]\n",
    "l.pop(1)\n",
    "l.pop(-2)\n",
    "print(l)"
   ]
  }
 ],
 "metadata": {
  "kernelspec": {
   "display_name": "Python 3",
   "language": "python",
   "name": "python3"
  },
  "language_info": {
   "codemirror_mode": {
    "name": "ipython",
    "version": 3
   },
   "file_extension": ".py",
   "mimetype": "text/x-python",
   "name": "python",
   "nbconvert_exporter": "python",
   "pygments_lexer": "ipython3",
   "version": "3.8.3"
  }
 },
 "nbformat": 4,
 "nbformat_minor": 4
}
