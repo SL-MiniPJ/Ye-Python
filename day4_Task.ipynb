{
 "cells": [
  {
   "cell_type": "code",
   "execution_count": 2,
   "metadata": {},
   "outputs": [
    {
     "name": "stdout",
     "output_type": "stream",
     "text": [
      "{75, 45, 15, 90, 60, 30}\n"
     ]
    }
   ],
   "source": [
    "# 26-8 공배수 구하기\n",
    "\n",
    "a={i for i in range(1,101) if i%3==0}\n",
    "b={i for i in range(1,101) if i%5==0}\n",
    "\n",
    "print(a&b)"
   ]
  },
  {
   "cell_type": "code",
   "execution_count": 87,
   "metadata": {},
   "outputs": [
    {
     "name": "stdout",
     "output_type": "stream",
     "text": [
      "100 200\n",
      "217\n"
     ]
    }
   ],
   "source": [
    "# 26-9 공약수 구하기\n",
    "\n",
    "a,b=map(int,input().split())\n",
    "sum=0\n",
    "\n",
    "for i in range(a+b):\n",
    "    if a%(i+1)==0 and b%(i+1)==0:\n",
    "        sum+=i+1\n",
    "        \n",
    "print(sum)"
   ]
  },
  {
   "cell_type": "code",
   "execution_count": 92,
   "metadata": {},
   "outputs": [
    {
     "name": "stdout",
     "output_type": "stream",
     "text": [
      "dictator\n",
      "subjects\n",
      "change\n"
     ]
    }
   ],
   "source": [
    "# 27-6\n",
    "   #l=lines.replace(',',' ').replace('.',' ').split(' ')\n",
    "with open('day4/words1.txt','r') as file:\n",
    "    for line in file:\n",
    "        text=line.replace(',','').replace('.','').split()\n",
    "        for i in range(len(text)):\n",
    "            if 'c' in text[i]:\n",
    "                print(text[i])\n",
    "        "
   ]
  },
  {
   "cell_type": "code",
   "execution_count": 64,
   "metadata": {},
   "outputs": [
    {
     "name": "stdout",
     "output_type": "stream",
     "text": [
      "단어를 입력하세요 : level\n",
      "True\n",
      "단어를 입력하세요 : levle\n",
      "False\n",
      "단어를 입력하세요 : level\n",
      "True\n"
     ]
    }
   ],
   "source": [
    "# 회문\n",
    "\n",
    "# 반복문으로 회문 여부 검사\n",
    "word = input('단어를 입력하세요 : ')\n",
    "\n",
    "re = True\n",
    "for i in range(len(word)//2):\n",
    "    if word[i]!=word[-1-i]:\n",
    "        re=False\n",
    "        break\n",
    "\n",
    "print(re)\n",
    "\n",
    "# 시퀀스 뒤집기로 회문 여부 검사\n",
    "word = input('단어를 입력하세요 : ')\n",
    "print(word==word[::-1])\n",
    "\n",
    "# 리스트 reversed\n",
    "word = input('단어를 입력하세요 : ')\n",
    "print(list(word)==list(reversed(word)))"
   ]
  },
  {
   "cell_type": "code",
   "execution_count": 71,
   "metadata": {},
   "outputs": [
    {
     "name": "stdout",
     "output_type": "stream",
     "text": [
      "He\n",
      "el\n",
      "ll\n",
      "lo\n",
      "-----\n",
      "Hello Python\n",
      "Python i'm\n",
      "i'm ye\n",
      "-----\n",
      "He\n",
      "el\n",
      "ll\n",
      "lo\n"
     ]
    }
   ],
   "source": [
    "# N-game\n",
    "\n",
    "text='Hello'\n",
    "\n",
    "for i in range(len(text)-1):\n",
    "    print(text[i],text[i+1],sep='')\n",
    "    \n",
    "print('-----')\n",
    "\n",
    "text='Hello Python i\\'m ye'\n",
    "words=text.split()\n",
    "\n",
    "for i in range(len(words)-1):\n",
    "    print(words[i],words[i+1],sep=' ')\n",
    "\n",
    "    \n",
    "print('-----')\n",
    "\n",
    "text='Hello'\n",
    "\n",
    "ziptext=zip(text, text[1:])\n",
    "\n",
    "for i in ziptext:\n",
    "    print(i[0], i[1], sep='')"
   ]
  },
  {
   "cell_type": "code",
   "execution_count": 74,
   "metadata": {},
   "outputs": [
    {
     "name": "stdout",
     "output_type": "stream",
     "text": [
      "3\n",
      "Python is a programming language lets you work quickly\n",
      "('Python', 'is', 'a')\n",
      "('is', 'a', 'programming')\n",
      "('a', 'programming', 'language')\n",
      "('programming', 'language', 'lets')\n",
      "('language', 'lets', 'you')\n",
      "('lets', 'you', 'work')\n",
      "('you', 'work', 'quickly')\n"
     ]
    }
   ],
   "source": [
    "# 28-3\n",
    "\n",
    "n=int(input())\n",
    "text=input()\n",
    "words=text.split()\n",
    "\n",
    "if len(words)<n:\n",
    "    print('wrong')\n",
    "else:\n",
    "    n_gram=zip(*[words[i:] for i in range(n)])\n",
    "    for i in n_gram:\n",
    "        print(i)\n",
    "\n",
    "# Python is a programming language lets you work quickly"
   ]
  },
  {
   "cell_type": "code",
   "execution_count": 79,
   "metadata": {},
   "outputs": [
    {
     "name": "stdout",
     "output_type": "stream",
     "text": [
      "did\n",
      "noon\n",
      "refer\n"
     ]
    }
   ],
   "source": [
    "# 28-4\n",
    "\n",
    "with open('day4/words2.txt','r') as file:\n",
    "    for line in file:\n",
    "        text=line.strip('\\n')\n",
    "        if text==text[::-1]:\n",
    "            print(text)"
   ]
  },
  {
   "cell_type": "code",
   "execution_count": null,
   "metadata": {},
   "outputs": [],
   "source": [
    "# 29-8\n",
    "\n",
    "a,b=map(int,input().split())\n",
    "\n",
    "def calcFull(a,b):\n",
    "    return a+b, a-b, a*b, a/b\n",
    "\n",
    "w,x,y,z = calcFull(a,b)\n",
    "print('덧셈: {0}, 뺄셈: {1}, 곱셈: {2}, 나눗셈: {3}'.format(w,x,y,z))"
   ]
  },
  {
   "cell_type": "code",
   "execution_count": 20,
   "metadata": {
    "scrolled": true
   },
   "outputs": [
    {
     "name": "stdout",
     "output_type": "stream",
     "text": [
      "76,82,89,84\n"
     ]
    },
    {
     "ename": "TypeError",
     "evalue": "'int' object is not callable",
     "output_type": "error",
     "traceback": [
      "\u001b[1;31m---------------------------------------------------------------------------\u001b[0m",
      "\u001b[1;31mTypeError\u001b[0m                                 Traceback (most recent call last)",
      "\u001b[1;32m<ipython-input-20-eda23349fe63>\u001b[0m in \u001b[0;36m<module>\u001b[1;34m\u001b[0m\n\u001b[0;32m     20\u001b[0m     \u001b[1;32mreturn\u001b[0m \u001b[0msum\u001b[0m\u001b[1;33m(\u001b[0m\u001b[0mscores\u001b[0m\u001b[1;33m.\u001b[0m\u001b[0mvalues\u001b[0m\u001b[1;33m(\u001b[0m\u001b[1;33m)\u001b[0m\u001b[1;33m)\u001b[0m\u001b[1;33m/\u001b[0m\u001b[0mlen\u001b[0m\u001b[1;33m(\u001b[0m\u001b[0mscores\u001b[0m\u001b[1;33m)\u001b[0m\u001b[1;33m\u001b[0m\u001b[1;33m\u001b[0m\u001b[0m\n\u001b[0;32m     21\u001b[0m \u001b[1;33m\u001b[0m\u001b[0m\n\u001b[1;32m---> 22\u001b[1;33m \u001b[0mminn\u001b[0m\u001b[1;33m,\u001b[0m \u001b[0mmaxx\u001b[0m \u001b[1;33m=\u001b[0m \u001b[0mscore2\u001b[0m\u001b[1;33m(\u001b[0m\u001b[0mkor\u001b[0m\u001b[1;33m,\u001b[0m \u001b[0meng\u001b[0m\u001b[1;33m,\u001b[0m \u001b[0mmat\u001b[0m\u001b[1;33m,\u001b[0m \u001b[0msci\u001b[0m\u001b[1;33m)\u001b[0m\u001b[1;33m\u001b[0m\u001b[1;33m\u001b[0m\u001b[0m\n\u001b[0m\u001b[0;32m     23\u001b[0m \u001b[0mavg\u001b[0m \u001b[1;33m=\u001b[0m \u001b[0mavg2\u001b[0m\u001b[1;33m(\u001b[0m\u001b[0mkor\u001b[0m\u001b[1;33m=\u001b[0m\u001b[0mkor\u001b[0m\u001b[1;33m,\u001b[0m \u001b[0meng\u001b[0m\u001b[1;33m=\u001b[0m\u001b[0meng\u001b[0m\u001b[1;33m,\u001b[0m \u001b[0mmat\u001b[0m\u001b[1;33m=\u001b[0m\u001b[0mmat\u001b[0m\u001b[1;33m,\u001b[0m \u001b[0msci\u001b[0m\u001b[1;33m=\u001b[0m\u001b[0msci\u001b[0m\u001b[1;33m)\u001b[0m\u001b[1;33m\u001b[0m\u001b[1;33m\u001b[0m\u001b[0m\n\u001b[0;32m     24\u001b[0m \u001b[0mprint\u001b[0m\u001b[1;33m(\u001b[0m\u001b[1;34m'낮은 점수: {0:.2f}, 높은 점수: {1:.2f}, 평균 점수: {2:.2f}'\u001b[0m\u001b[1;33m.\u001b[0m\u001b[0mformat\u001b[0m\u001b[1;33m(\u001b[0m\u001b[0mminn\u001b[0m\u001b[1;33m,\u001b[0m \u001b[0mmaxx\u001b[0m\u001b[1;33m,\u001b[0m \u001b[0mavg\u001b[0m\u001b[1;33m)\u001b[0m\u001b[1;33m)\u001b[0m\u001b[1;33m\u001b[0m\u001b[1;33m\u001b[0m\u001b[0m\n",
      "\u001b[1;32m<ipython-input-20-eda23349fe63>\u001b[0m in \u001b[0;36mscore2\u001b[1;34m(*scores)\u001b[0m\n\u001b[0;32m     15\u001b[0m \u001b[1;33m\u001b[0m\u001b[0m\n\u001b[0;32m     16\u001b[0m \u001b[1;32mdef\u001b[0m \u001b[0mscore2\u001b[0m\u001b[1;33m(\u001b[0m\u001b[1;33m*\u001b[0m\u001b[0mscores\u001b[0m\u001b[1;33m)\u001b[0m\u001b[1;33m:\u001b[0m\u001b[1;33m\u001b[0m\u001b[1;33m\u001b[0m\u001b[0m\n\u001b[1;32m---> 17\u001b[1;33m     \u001b[1;32mreturn\u001b[0m \u001b[0mmin\u001b[0m\u001b[1;33m(\u001b[0m\u001b[0mscores\u001b[0m\u001b[1;33m)\u001b[0m\u001b[1;33m,\u001b[0m\u001b[0mmax\u001b[0m\u001b[1;33m(\u001b[0m\u001b[0mscores\u001b[0m\u001b[1;33m)\u001b[0m\u001b[1;33m\u001b[0m\u001b[1;33m\u001b[0m\u001b[0m\n\u001b[0m\u001b[0;32m     18\u001b[0m \u001b[1;33m\u001b[0m\u001b[0m\n\u001b[0;32m     19\u001b[0m \u001b[1;32mdef\u001b[0m \u001b[0mavg2\u001b[0m\u001b[1;33m(\u001b[0m\u001b[1;33m**\u001b[0m\u001b[0mscores\u001b[0m\u001b[1;33m)\u001b[0m\u001b[1;33m:\u001b[0m\u001b[1;33m\u001b[0m\u001b[1;33m\u001b[0m\u001b[0m\n",
      "\u001b[1;31mTypeError\u001b[0m: 'int' object is not callable"
     ]
    }
   ],
   "source": [
    "# 30-7\n",
    "\n",
    "kor, eng, mat, sci = map(int,input().split(','))\n",
    "\n",
    "def score(*scores):\n",
    "    return min(scores),max(scores),sum(scores)/len(scores)\n",
    "\n",
    "print('낮은 점수: {0:.2f}, 높은 점수: {1:.2f}, 평균 점수: {2:.2f}'.format(*score(kor, eng, mat, sci)))\n",
    "print('낮은 점수: {0:.2f}, 높은 점수: {1:.2f}, 평균 점수: {2:.2f}'.format(*score(eng, sci)))\n",
    "\n",
    "\n",
    "# 30-7\n",
    "\n",
    "kor, eng, mat, sci = map(int,input().split(','))\n",
    "\n",
    "def score2(*scores):\n",
    "    return min(scores),max(scores)\n",
    "\n",
    "def avg2(**scores):\n",
    "    return sum(scores.values())/len(scores)\n",
    "\n",
    "minn, maxx = score2(kor, eng, mat, sci)\n",
    "avg = avg2(kor=kor, eng=eng, mat=mat, sci=sci)\n",
    "print('낮은 점수: {0:.2f}, 높은 점수: {1:.2f}, 평균 점수: {2:.2f}'.format(minn, maxx, avg))\n",
    "\n",
    "minn, maxx = score2(eng, sci)\n",
    "avg = avg2(eng=eng, sci=sci)\n",
    "print('낮은 점수: {0:.2f}, 높은 점수: {1:.2f}, 평균 점수: {2:.2f}'.format(minn, maxx, avg))\n"
   ]
  },
  {
   "cell_type": "code",
   "execution_count": 25,
   "metadata": {},
   "outputs": [
    {
     "name": "stdout",
     "output_type": "stream",
     "text": [
      "10\n",
      "55\n"
     ]
    }
   ],
   "source": [
    "# 31-5\n",
    "\n",
    "n=int(input())\n",
    "\n",
    "def fib(n):\n",
    "    if n<3:\n",
    "        return 1\n",
    "    return fib(n-1)+fib(n-2)\n",
    "\n",
    "print(fib(n))"
   ]
  },
  {
   "cell_type": "code",
   "execution_count": 36,
   "metadata": {},
   "outputs": [
    {
     "name": "stdout",
     "output_type": "stream",
     "text": [
      "1.jpg 10.png 101.docx\n",
      "['001.jpg', '010.png', '101.docx']\n"
     ]
    }
   ],
   "source": [
    "# 32-5\n",
    "\n",
    "files=input().split()\n",
    "print(list(map(lambda x:'{:0>3}'.format(x[0:x.find('.')])+x[x.find('.'):len(x)], files)))\n"
   ]
  },
  {
   "cell_type": "code",
   "execution_count": 42,
   "metadata": {},
   "outputs": [
    {
     "name": "stdout",
     "output_type": "stream",
     "text": [
      "10\n",
      "10 9 8 7 6 5 4 3 2 1 "
     ]
    }
   ],
   "source": [
    "# 33-6\n",
    "\n",
    "def countdown(n):\n",
    "    n+=1\n",
    "    def count():\n",
    "        nonlocal n\n",
    "        n-=1\n",
    "        return n\n",
    "    return count\n",
    "\n",
    "n=int(input())\n",
    "c=countdown(n)\n",
    "\n",
    "for i in range(n):\n",
    "    print(c(), end=' ')"
   ]
  }
 ],
 "metadata": {
  "kernelspec": {
   "display_name": "Python 3",
   "language": "python",
   "name": "python3"
  },
  "language_info": {
   "codemirror_mode": {
    "name": "ipython",
    "version": 3
   },
   "file_extension": ".py",
   "mimetype": "text/x-python",
   "name": "python",
   "nbconvert_exporter": "python",
   "pygments_lexer": "ipython3",
   "version": "3.8.3"
  }
 },
 "nbformat": 4,
 "nbformat_minor": 4
}
