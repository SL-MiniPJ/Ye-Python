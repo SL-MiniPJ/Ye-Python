{
 "cells": [
  {
   "cell_type": "code",
   "execution_count": 14,
   "metadata": {},
   "outputs": [
    {
     "name": "stdout",
     "output_type": "stream",
     "text": [
      "10\n",
      "20\n",
      "Hello! 10 20\n",
      "(30, -10)\n",
      "10\n",
      "20\n",
      "Hello! 10 20\n",
      "30 -10\n"
     ]
    }
   ],
   "source": [
    "# 함수\n",
    "\n",
    "def hello(a,b):\n",
    "    print('Hello!',a,b)\n",
    "    return a+b,a-b\n",
    "\n",
    "#return을 튜플로 보낼 수 있다..!\n",
    "c=hello(int(input()),int(input()))\n",
    "print(c)\n",
    "\n",
    "c,d=hello(int(input()),int(input()))\n",
    "print(c,d)\n"
   ]
  },
  {
   "cell_type": "code",
   "execution_count": 25,
   "metadata": {},
   "outputs": [
    {
     "name": "stdout",
     "output_type": "stream",
     "text": [
      "몫 :  3 나머지 :  1\n",
      "10 20\n",
      "덧셈: 30, 뺄셈: -10, 곱셈: 200, 나눗셈: 0.5\n"
     ]
    }
   ],
   "source": [
    "# 29-7\n",
    "\n",
    "x=10\n",
    "y=3\n",
    "\n",
    "def calc(x,y):\n",
    "    return x//y,x%y\n",
    "\n",
    "xx,yy = calc(x,y)\n",
    "print('몫 : ',xx,'나머지 : ',yy)\n",
    "\n",
    "\n",
    "# 29-8\n",
    "\n",
    "a,b=map(int,input().split())\n",
    "\n",
    "def calcFull(a,b):\n",
    "    return a+b, a-b, a*b, a/b\n",
    "\n",
    "w,x,y,z = calcFull(a,b)\n",
    "print('덧셈: {0}, 뺄셈: {1}, 곱셈: {2}, 나눗셈: {3}'.format(w,x,y,z))"
   ]
  },
  {
   "cell_type": "code",
   "execution_count": 38,
   "metadata": {},
   "outputs": [
    {
     "name": "stdout",
     "output_type": "stream",
     "text": [
      "[10, 20, 30]\n",
      "10 20 30\n",
      "11\n",
      "22\n",
      "33\n",
      "44\n",
      "55\n"
     ]
    }
   ],
   "source": [
    "# 함수에서 위치 인수와 키워드 인수 사용\n",
    "a=[10,20,30]\n",
    "print(a)\n",
    "\n",
    "# 언패킹! 포장을 푼다!\n",
    "print(*a)\n",
    "\n",
    "# 가변 인자 : 개수 상관없이 매개변수를 받음\n",
    "def print_numbers(*args):\n",
    "    for arg in args:\n",
    "        print(arg)\n",
    "\n",
    "li=[11,22,33,44,55]\n",
    "print_numbers(*li)"
   ]
  },
  {
   "cell_type": "code",
   "execution_count": 57,
   "metadata": {},
   "outputs": [
    {
     "name": "stdout",
     "output_type": "stream",
     "text": [
      "이름 :  홍길동\n",
      "나이 :  20\n",
      "주소 :  가산동\n",
      "이름 :  홍길동\n",
      "나이 :  20\n",
      "주소 :  신천동\n"
     ]
    }
   ],
   "source": [
    "# 키워드 인수 사용하기\n",
    "\n",
    "def person_info(name,age,address):\n",
    "    print('이름 : ',name)\n",
    "    print('나이 : ',age)\n",
    "    print('주소 : ',address)\n",
    "\n",
    "person_info('홍길동',20,'가산동')\n",
    "\n",
    "## 이거를 ↓ 이렇게!\n",
    "\n",
    "person_info(name='홍길동',address='신천동', age=20)"
   ]
  },
  {
   "cell_type": "code",
   "execution_count": 62,
   "metadata": {},
   "outputs": [
    {
     "name": "stdout",
     "output_type": "stream",
     "text": [
      "이름 :  name\n",
      "나이 :  age\n",
      "주소 :  address\n",
      "이름 :  홍길동\n",
      "나이 :  20\n",
      "주소 :  가산동\n"
     ]
    }
   ],
   "source": [
    "# 딕셔너리 언패킹 **\n",
    "\n",
    "x={'name':'홍길동','age':20, 'address':'가산동'}\n",
    "\n",
    "# 키 받아옴\n",
    "person_info(*x)\n",
    "# 값 받아옴\n",
    "person_info(**x)\n"
   ]
  },
  {
   "cell_type": "code",
   "execution_count": 65,
   "metadata": {},
   "outputs": [],
   "source": [
    "def person_info2(**kwrgs):\n",
    "    for ke, arg in kwrgs.items():\n",
    "        print(kw,': ',arg,sep='')"
   ]
  },
  {
   "cell_type": "code",
   "execution_count": 71,
   "metadata": {},
   "outputs": [
    {
     "name": "stdout",
     "output_type": "stream",
     "text": [
      "1 2 3\n",
      "1 2 30\n"
     ]
    },
    {
     "ename": "TypeError",
     "evalue": "disp() missing 1 required positional argument: 'b'",
     "output_type": "error",
     "traceback": [
      "\u001b[1;31m---------------------------------------------------------------------------\u001b[0m",
      "\u001b[1;31mTypeError\u001b[0m                                 Traceback (most recent call last)",
      "\u001b[1;32m<ipython-input-71-3454d8b2b9ef>\u001b[0m in \u001b[0;36m<module>\u001b[1;34m\u001b[0m\n\u001b[0;32m      4\u001b[0m \u001b[0mdisp\u001b[0m\u001b[1;33m(\u001b[0m\u001b[1;36m1\u001b[0m\u001b[1;33m,\u001b[0m\u001b[1;36m2\u001b[0m\u001b[1;33m,\u001b[0m\u001b[1;36m3\u001b[0m\u001b[1;33m)\u001b[0m\u001b[1;33m\u001b[0m\u001b[1;33m\u001b[0m\u001b[0m\n\u001b[0;32m      5\u001b[0m \u001b[0mdisp\u001b[0m\u001b[1;33m(\u001b[0m\u001b[1;36m1\u001b[0m\u001b[1;33m,\u001b[0m\u001b[1;36m2\u001b[0m\u001b[1;33m)\u001b[0m\u001b[1;33m\u001b[0m\u001b[1;33m\u001b[0m\u001b[0m\n\u001b[1;32m----> 6\u001b[1;33m \u001b[0mdisp\u001b[0m\u001b[1;33m(\u001b[0m\u001b[1;36m1\u001b[0m\u001b[1;33m)\u001b[0m\u001b[1;33m\u001b[0m\u001b[1;33m\u001b[0m\u001b[0m\n\u001b[0m",
      "\u001b[1;31mTypeError\u001b[0m: disp() missing 1 required positional argument: 'b'"
     ]
    }
   ],
   "source": [
    "def disp(a,b,c=30): # 디폴트 인자\n",
    "    print(a,b,c)\n",
    "\n",
    "disp(1,2,3)\n",
    "disp(1,2)\n",
    "disp(1)"
   ]
  },
  {
   "cell_type": "code",
   "execution_count": 74,
   "metadata": {},
   "outputs": [
    {
     "name": "stdout",
     "output_type": "stream",
     "text": [
      "최댓값 :  100\n"
     ]
    }
   ],
   "source": [
    "# 30-6\n",
    "\n",
    "kor, eng, mat, sci = 100,86,81,91\n",
    "\n",
    "def top(*num):\n",
    "    return max(num)\n",
    "\n",
    "print('최댓값 : ',top(kor, eng, mat, sci))"
   ]
  },
  {
   "cell_type": "code",
   "execution_count": 91,
   "metadata": {},
   "outputs": [
    {
     "name": "stdout",
     "output_type": "stream",
     "text": [
      "76,82,89,84\n",
      "낮은 점수: 76.00, 높은 점수: 89.00, 평균 점수: 82.75\n",
      "낮은 점수: 82.00, 높은 점수: 84.00, 평균 점수: 83.00\n"
     ]
    }
   ],
   "source": [
    "# 30-7\n",
    "\n",
    "kor, eng, mat, sci = map(int,input().split(','))\n",
    "\n",
    "def score(*scores):\n",
    "    return min(scores),max(scores),sum(scores)/len(scores)\n",
    "\n",
    "print('낮은 점수: {0:.2f}, 높은 점수: {1:.2f}, 평균 점수: {2:.2f}'.format(*score(kor, eng, mat, sci)))\n",
    "print('낮은 점수: {0:.2f}, 높은 점수: {1:.2f}, 평균 점수: {2:.2f}'.format(*score(eng, sci)))"
   ]
  },
  {
   "cell_type": "code",
   "execution_count": 93,
   "metadata": {},
   "outputs": [
    {
     "name": "stdout",
     "output_type": "stream",
     "text": [
      "Hello, Python! 3\n",
      "Hello, Python! 2\n",
      "Hello, Python! 1\n"
     ]
    }
   ],
   "source": [
    "# 재귀 호출\n",
    "\n",
    "def hello(count):\n",
    "    if count == 0:\n",
    "        return\n",
    "    print('Hello, Python!',count)\n",
    "    count-=1\n",
    "    hello(count)\n",
    "    \n",
    "hello(3)"
   ]
  },
  {
   "cell_type": "code",
   "execution_count": 94,
   "metadata": {},
   "outputs": [
    {
     "name": "stdout",
     "output_type": "stream",
     "text": [
      "120\n"
     ]
    }
   ],
   "source": [
    "# 재귀 호출 - 팩토리얼 구하기\n",
    "\n",
    "def factorial(n):\n",
    "    if n == 1:\n",
    "        return 1\n",
    "    return n*factorial(n-1)\n",
    "\n",
    "print(factorial(5))"
   ]
  },
  {
   "cell_type": "code",
   "execution_count": 112,
   "metadata": {},
   "outputs": [
    {
     "name": "stdout",
     "output_type": "stream",
     "text": [
      "11\n",
      "11\n",
      "11\n"
     ]
    }
   ],
   "source": [
    "# 람다\n",
    "\n",
    "def plus_ten(x):\n",
    "    return x+10\n",
    "print(plus_ten(1))\n",
    "\n",
    "# 이걸 ↓ 이렇게 바꿀 수 있다\n",
    "\n",
    "print((lambda x:x+10)(1))\n",
    "plus_ten=lambda x:x+10\n",
    "print(plus_ten(1))\n"
   ]
  },
  {
   "cell_type": "code",
   "execution_count": 119,
   "metadata": {},
   "outputs": [
    {
     "name": "stdout",
     "output_type": "stream",
     "text": [
      "[11, 12, 13]\n",
      "[1, 2, '3', 4, 5, '6', 7, 8, '9']\n"
     ]
    }
   ],
   "source": [
    "# 람다\n",
    "\n",
    "plus_ten=lambda x:x+10\n",
    "print(list(map(plus_ten,[1,2,3])))\n",
    "\n",
    "a=[1,2,3,4,5,6,7,8,9]\n",
    "print(list(map(lambda x:str(x) if x%3==0 else x,a)))"
   ]
  },
  {
   "cell_type": "code",
   "execution_count": 120,
   "metadata": {},
   "outputs": [
    {
     "name": "stdout",
     "output_type": "stream",
     "text": [
      "[2, 8, 18, 32, 50]\n"
     ]
    }
   ],
   "source": [
    "# map에 객체 여러 개 넣기\n",
    "\n",
    "a=[1,2,3,4,5]\n",
    "b=[2,4,6,8,10]\n",
    "\n",
    "print(list(map(lambda x,y:x*y,a,b)))"
   ]
  },
  {
   "cell_type": "code",
   "execution_count": 121,
   "metadata": {},
   "outputs": [
    {
     "name": "stdout",
     "output_type": "stream",
     "text": [
      "False\n",
      "True\n"
     ]
    }
   ],
   "source": [
    "# 31-4\n",
    "\n",
    "def is_palin(word):\n",
    "    if len(word)<2:\n",
    "        return True\n",
    "    if word[0]!=word[-1]:\n",
    "        return False\n",
    "    return is_palin(word[1:-1])\n",
    "\n",
    "print(is_palin('hello'))\n",
    "print(is_palin('level'))"
   ]
  },
  {
   "cell_type": "code",
   "execution_count": 141,
   "metadata": {},
   "outputs": [
    {
     "name": "stdout",
     "output_type": "stream",
     "text": [
      "['1.png', '10.jpg', '2.jpg', '3.png']\n"
     ]
    }
   ],
   "source": [
    "# 32-4\n",
    "\n",
    "files=['font','1.png','10.jpg','11.gif','2.jpg','3.png','table.xlsx','spec.doc']\n",
    "print(list(filter(lambda x:x.find('.jpg') != -1 or x.find('.png')!=-1,files)))"
   ]
  },
  {
   "cell_type": "code",
   "execution_count": 143,
   "metadata": {},
   "outputs": [
    {
     "name": "stdout",
     "output_type": "stream",
     "text": [
      "8 11 14 17 20\n",
      "8 11 14 17 20\n"
     ]
    }
   ],
   "source": [
    "# 클로저 사용하기\n",
    "\n",
    "def calc():\n",
    "    a=3\n",
    "    b=5\n",
    "    def mul_add(x):\n",
    "        return a*x+b\n",
    "    return mul_add\n",
    "\n",
    "c=calc()\n",
    "print(c(1),c(2),c(3),c(4),c(5))\n",
    "\n",
    "\n",
    "def calc():\n",
    "    a=3\n",
    "    b=5\n",
    "    return lambda x:a*x+b\n",
    "\n",
    "c=calc()\n",
    "print(c(1),c(2),c(3),c(4),c(5))\n"
   ]
  }
 ],
 "metadata": {
  "kernelspec": {
   "display_name": "Python 3",
   "language": "python",
   "name": "python3"
  },
  "language_info": {
   "codemirror_mode": {
    "name": "ipython",
    "version": 3
   },
   "file_extension": ".py",
   "mimetype": "text/x-python",
   "name": "python",
   "nbconvert_exporter": "python",
   "pygments_lexer": "ipython3",
   "version": "3.8.3"
  }
 },
 "nbformat": 4,
 "nbformat_minor": 4
}
